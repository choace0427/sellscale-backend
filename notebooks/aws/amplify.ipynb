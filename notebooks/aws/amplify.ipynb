{
 "cells": [
  {
   "cell_type": "code",
   "execution_count": 1,
   "metadata": {},
   "outputs": [
    {
     "name": "stdout",
     "output_type": "stream",
     "text": [
      "/Users/davidwei/Documents/SellScale/sellscale-api/notebooks/aws\n"
     ]
    }
   ],
   "source": [
    "from dotenv import load_dotenv\n",
    "from pathlib import Path\n",
    "import os\n",
    "import sys\n",
    "import boto3\n",
    "\n",
    "env_path = Path('../..') / '.production.env'\n",
    "load_dotenv(dotenv_path=env_path)\n",
    "\n",
    "print(os.getcwd())\n",
    "sys.path.append('/Users/davidwei/Documents/SellScale/sellscale-api/notebooks/aws')\n",
    "\n",
    "AWS_ACCESS_KEY_ID = os.environ.get('AWS_ACCESS_KEY_ID')\n",
    "AWS_ACCESS_KEY_SECRET = os.environ.get('AWS_ACCESS_KEY_SECRET')\n",
    "\n",
    "aws_amplify_client = boto3.client(\n",
    "    'amplify',\n",
    "    aws_access_key_id=AWS_ACCESS_KEY_ID,\n",
    "    aws_secret_access_key=AWS_ACCESS_KEY_SECRET,\n",
    "    region_name='us-east-1'\n",
    ")\n"
   ]
  },
  {
   "cell_type": "code",
   "execution_count": 16,
   "metadata": {},
   "outputs": [
    {
     "name": "stdout",
     "output_type": "stream",
     "text": [
      "{'ResponseMetadata': {'RequestId': '34a791e8-db26-4de1-b903-a59aa5f29ebb', 'HTTPStatusCode': 200, 'HTTPHeaders': {'content-type': 'application/json', 'content-length': '906', 'connection': 'keep-alive', 'date': 'Thu, 04 Jan 2024 22:53:55 GMT', 'x-amzn-requestid': '34a791e8-db26-4de1-b903-a59aa5f29ebb', 'access-control-allow-origin': '*', 'access-control-allow-headers': 'Content-Type,X-Amz-Date,Authorization,X-Api-Key,X-Amz-Security-Token', 'x-amz-apigw-id': 'RCWIkER5IAMEQuQ=', 'access-control-allow-methods': 'GET,OPTIONS,POST', 'access-control-expose-headers': 'x-amzn-RequestId,x-amzn-ErrorType', 'x-amzn-trace-id': 'Root=1-65973703-6361ecac5091a6555284ef8e', 'x-cache': 'Miss from cloudfront', 'via': '1.1 34d691c1cf360a32817ace92de30761c.cloudfront.net (CloudFront)', 'x-amz-cf-pop': 'EWR53-C3', 'x-amz-cf-id': 'SJAKDsaztHoBZ1FNn1A_JB2oEZhYXLNYkDr2vL0TZqy5AmpiIRUKkQ=='}, 'RetryAttempts': 0}, 'app': {'appId': 'd140596u915v38', 'appArn': 'arn:aws:amplify:us-east-1:265676777690:apps/d140596u915v38', 'name': 'getsellscale.com', 'platform': 'WEB', 'createTime': datetime.datetime(2024, 1, 4, 17, 53, 55, 577000, tzinfo=tzlocal()), 'updateTime': datetime.datetime(2024, 1, 4, 17, 53, 55, 577000, tzinfo=tzlocal()), 'defaultDomain': 'd140596u915v38.amplifyapp.com', 'enableBranchAutoBuild': False, 'enableBranchAutoDeletion': False, 'enableBasicAuth': False, 'customRules': [{'source': 'getsellscale.com', 'target': 'https://www.sellscale.com/', 'status': '301'}, {'source': 'www.getsellscale.com', 'target': 'https://www.sellscale.com/', 'status': '301'}], 'customHeaders': '', 'enableAutoBranchCreation': False}}\n"
     ]
    },
    {
     "data": {
      "text/plain": [
       "'d140596u915v38'"
      ]
     },
     "execution_count": 16,
     "metadata": {},
     "output_type": "execute_result"
    }
   ],
   "source": [
    "def create_aws_amplify_app(custom_domain: str, reroute_domain: str):\n",
    "    redirect_rules = [\n",
    "        {\n",
    "            \"source\": custom_domain,\n",
    "            \"target\": reroute_domain,\n",
    "            \"status\": \"301\",\n",
    "        },\n",
    "        {\n",
    "            \"source\": f\"www.{custom_domain}\",\n",
    "            \"target\": reroute_domain,\n",
    "            \"status\": \"301\",\n",
    "        }\n",
    "    ]\n",
    "    response = aws_amplify_client.create_app(\n",
    "        name=custom_domain,\n",
    "        customRules=redirect_rules\n",
    "    )\n",
    "    print(response)\n",
    "\n",
    "    id = response['app']['appId']\n",
    "    return id\n",
    "\n",
    "# create_aws_amplify_app(\n",
    "#     custom_domain='getsellscale.com',\n",
    "#     reroute_domain='https://www.sellscale.com/'\n",
    "# )\n"
   ]
  },
  {
   "cell_type": "code",
   "execution_count": 17,
   "metadata": {},
   "outputs": [
    {
     "name": "stdout",
     "output_type": "stream",
     "text": [
      "{'ResponseMetadata': {'RequestId': '7d300405-10d6-45a3-91dd-27ac13694441', 'HTTPStatusCode': 200, 'HTTPHeaders': {'content-type': 'application/json', 'content-length': '745', 'connection': 'keep-alive', 'date': 'Thu, 04 Jan 2024 22:54:20 GMT', 'x-amzn-requestid': '7d300405-10d6-45a3-91dd-27ac13694441', 'access-control-allow-origin': '*', 'access-control-allow-headers': 'Content-Type,X-Amz-Date,Authorization,X-Api-Key,X-Amz-Security-Token', 'x-amz-apigw-id': 'RCWMdFHLoAMEF2g=', 'access-control-allow-methods': 'GET,OPTIONS,POST', 'access-control-expose-headers': 'x-amzn-RequestId,x-amzn-ErrorType', 'x-amzn-trace-id': 'Root=1-6597371c-129ad14067b717c45d135a71', 'x-cache': 'Miss from cloudfront', 'via': '1.1 34d691c1cf360a32817ace92de30761c.cloudfront.net (CloudFront)', 'x-amz-cf-pop': 'EWR53-C3', 'x-amz-cf-id': 'AfBpcBiSqL-tzmRh-HRy5vvDRDVqGoVVjocb0-UofsuS0UsxqyVcAA=='}, 'RetryAttempts': 0}, 'branch': {'branchArn': 'arn:aws:amplify:us-east-1:265676777690:apps/d140596u915v38/branches/redirects', 'branchName': 'redirects', 'stage': 'NONE', 'displayName': 'redirects', 'enableNotification': False, 'createTime': datetime.datetime(2024, 1, 4, 17, 54, 20, 293000, tzinfo=tzlocal()), 'updateTime': datetime.datetime(2024, 1, 4, 17, 54, 20, 293000, tzinfo=tzlocal()), 'enableAutoBuild': True, 'totalNumberOfJobs': '0', 'enableBasicAuth': False, 'enablePerformanceMode': False, 'ttl': '5', 'enablePullRequestPreview': False, 'backend': {}}}\n"
     ]
    }
   ],
   "source": [
    "def create_branch(app_id: str):\n",
    "    response = aws_amplify_client.create_branch(\n",
    "        appId=app_id,\n",
    "        branchName='redirects',\n",
    "    )\n",
    "    print(response)\n",
    "\n",
    "# create_branch(app_id='')"
   ]
  },
  {
   "cell_type": "code",
   "execution_count": 18,
   "metadata": {},
   "outputs": [
    {
     "name": "stdout",
     "output_type": "stream",
     "text": [
      "{'ResponseMetadata': {'RequestId': '761b5a85-1a0f-4546-8c60-e11a6be5b319', 'HTTPStatusCode': 200, 'HTTPHeaders': {'content-type': 'application/json', 'content-length': '620', 'connection': 'keep-alive', 'date': 'Thu, 04 Jan 2024 22:54:34 GMT', 'x-amzn-requestid': '761b5a85-1a0f-4546-8c60-e11a6be5b319', 'access-control-allow-origin': '*', 'access-control-allow-headers': 'Content-Type,X-Amz-Date,Authorization,X-Api-Key,X-Amz-Security-Token', 'x-amz-apigw-id': 'RCWOnEdGIAMET0w=', 'access-control-allow-methods': 'GET,OPTIONS,POST', 'access-control-expose-headers': 'x-amzn-RequestId,x-amzn-ErrorType', 'x-amzn-trace-id': 'Root=1-6597372a-74a957e6107111d65fd4f5f7', 'x-cache': 'Miss from cloudfront', 'via': '1.1 34d691c1cf360a32817ace92de30761c.cloudfront.net (CloudFront)', 'x-amz-cf-pop': 'EWR53-C3', 'x-amz-cf-id': 'dX-Nb8-xT5eQZm9g4wD9fi-WrZyQMgyJaQwleVykmNPbqgG1vMvrMg=='}, 'RetryAttempts': 0}, 'domainAssociation': {'domainAssociationArn': 'arn:aws:amplify:us-east-1:265676777690:apps/d140596u915v38/domains/getsellscale.com', 'domainName': 'getsellscale.com', 'enableAutoSubDomain': False, 'domainStatus': 'CREATING', 'subDomains': [{'subDomainSetting': {'prefix': '', 'branchName': 'redirects'}, 'verified': False, 'dnsRecord': '* CNAME <pending>'}, {'subDomainSetting': {'prefix': 'www', 'branchName': 'redirects'}, 'verified': False, 'dnsRecord': 'www CNAME <pending>'}]}}\n"
     ]
    }
   ],
   "source": [
    "def create_domain_association(app_id: str, domain_name: str):\n",
    "    response = aws_amplify_client.create_domain_association(\n",
    "        appId=app_id,\n",
    "        domainName=domain_name,\n",
    "        subDomainSettings=[\n",
    "            {\n",
    "                'prefix': 'www',\n",
    "                'branchName': 'redirects'\n",
    "            },\n",
    "            {\n",
    "                'prefix': '',\n",
    "                'branchName': 'redirects'\n",
    "            }\n",
    "        ]\n",
    "    )\n",
    "    print(response)\n",
    "\n",
    "# domain_name = 'getsellscale.com'\n",
    "# create_domain_association(app_id, domain_name)"
   ]
  }
 ],
 "metadata": {
  "kernelspec": {
   "display_name": "venv",
   "language": "python",
   "name": "python3"
  },
  "language_info": {
   "codemirror_mode": {
    "name": "ipython",
    "version": 3
   },
   "file_extension": ".py",
   "mimetype": "text/x-python",
   "name": "python",
   "nbconvert_exporter": "python",
   "pygments_lexer": "ipython3",
   "version": "3.9.6"
  },
  "orig_nbformat": 4
 },
 "nbformat": 4,
 "nbformat_minor": 2
}
