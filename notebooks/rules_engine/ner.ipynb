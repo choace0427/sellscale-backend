{
 "cells": [
  {
   "cell_type": "code",
   "execution_count": 14,
   "metadata": {},
   "outputs": [],
   "source": [
    "import openai\n",
    "import os\n",
    "\n",
    "openai_api_key = \"sk-\"\n",
    "openai.api_key = openai_api_key"
   ]
  },
  {
   "cell_type": "code",
   "execution_count": 16,
   "metadata": {},
   "outputs": [
    {
     "name": "stdout",
     "output_type": "stream",
     "text": [
      "['Jan', 'Guided Delivery Systems']\n"
     ]
    }
   ],
   "source": [
    "def get_named_entities(string: str):\n",
    "    \"\"\" Get named entities from a string (completion message)\n",
    "\n",
    "    We use the OpenAI davinci-03 completion model to generate the named entities.\n",
    "\n",
    "    \"\"\"\n",
    "    if string == \"\":\n",
    "        return []\n",
    "    \n",
    "    # Unlikely to have more than 50 tokens (words)\n",
    "    max_tokens_length = 50\n",
    "    message = string.strip()\n",
    "    instruction = \"instruction: Return a list of all named entities, including persons's names, separated by ' // '. If no entities are detected, return 'NONE'.\"\n",
    "\n",
    "    fewshot_1_message = \"message: Hey David, I really like your background in computer security. I also really enjoyed reading the recommendation Aakash left for you. Impressive since you've been in the industry for 9+ years! You must have had a collection of amazing work experiences, given that you've been with Gusto, Naropa University, and Stratosphere in the past.\"\n",
    "    fewshot_1_entities = \"entities: David // Aakash // Gusto // Naropa University // Stratosphere\"\n",
    "    fewshot_1 = fewshot_1_message + \"\\n\\n\" + instruction + \"\\n\\n\" + fewshot_1_entities\n",
    "\n",
    "    fewshot_2_message = \"message: I'd like to commend you for being in the industry for 16+ years. That is no small feat!\"\n",
    "    fewshot_2_entities = \"entities: NONE\"\n",
    "    fewshot_2 = fewshot_2_message + \"\\n\\n\" + instruction + \"\\n\\n\" + fewshot_2_entities\n",
    "\n",
    "    target = \"message: \" + message + \"\\n\\n\" + instruction + \"\\n\\n\" + \"entities:\"\n",
    "    \n",
    "    prompt = fewshot_1 + \"\\n\\n--\\n\\n\" + fewshot_2 + \"\\n\\n--\\n\\n\" + target\n",
    "\n",
    "    response = openai.Completion.create(\n",
    "        model=\"text-davinci-003\",\n",
    "        prompt=prompt,\n",
    "        max_tokens=max_tokens_length,\n",
    "        temperature=0,\n",
    "    )\n",
    "    if response is None or response[\"choices\"] is None or len(response[\"choices\"]) == 0:\n",
    "        return []\n",
    "\n",
    "    choices = response[\"choices\"]\n",
    "    top_choice = choices[0]\n",
    "    entities_dirty = top_choice[\"text\"].strip()\n",
    "    entities_clean = entities_dirty.replace(\"\\n\", \"\").split(\" // \")\n",
    "    print(entities_clean)\n",
    "\n",
    "get_named_entities(\"Hi Jan! I saw that you have 26+ years of experience in the medical device industry and have worked with Guided Delivery Systems. Given the need for continuity of care for patients and the challenges with hiring providers, I'd love to be a resource! Let's connect.\")\n"
   ]
  }
 ],
 "metadata": {
  "kernelspec": {
   "display_name": "Python 3.9.6 ('venv': venv)",
   "language": "python",
   "name": "python3"
  },
  "language_info": {
   "codemirror_mode": {
    "name": "ipython",
    "version": 3
   },
   "file_extension": ".py",
   "mimetype": "text/x-python",
   "name": "python",
   "nbconvert_exporter": "python",
   "pygments_lexer": "ipython3",
   "version": "3.9.6"
  },
  "orig_nbformat": 4,
  "vscode": {
   "interpreter": {
    "hash": "60a39ed7d9ed506b3549da2e10402e1e4204e8b41b0e183e3e35940f3cb41bf2"
   }
  }
 },
 "nbformat": 4,
 "nbformat_minor": 2
}
