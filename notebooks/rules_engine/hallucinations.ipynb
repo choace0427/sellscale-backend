{
 "cells": [
  {
   "cell_type": "code",
   "execution_count": 1,
   "metadata": {},
   "outputs": [
    {
     "name": "stdout",
     "output_type": "stream",
     "text": [
      "/Users/davidwei/Documents/SellScale/sellscale-api/notebooks/rules_engine\n"
     ]
    }
   ],
   "source": [
    "from dotenv import load_dotenv\n",
    "from pathlib import Path\n",
    "import os\n",
    "import sys\n",
    "import openai\n",
    "from typing import Optional, Union\n",
    "\n",
    "\n",
    "env_path = Path('../..') / '.env'\n",
    "load_dotenv(dotenv_path=env_path)\n",
    "\n",
    "print(os.getcwd())\n",
    "sys.path.append('/Users/davidwei/Documents/SellScale/sellscale-api/notebooks/research')\n",
    "\n",
    "OPENAI_API_KEY = os.environ.get('OPENAI_API_KEY')\n",
    "openai.api_key = OPENAI_API_KEY"
   ]
  },
  {
   "cell_type": "code",
   "execution_count": 47,
   "metadata": {},
   "outputs": [],
   "source": [
    "import json\n",
    "\n",
    "\n",
    "def detect_hallucinations(message_prompt: str, message: str):\n",
    "    system_instructions = \"You are an assistant that will help me detect hallucinations. A hallucination is defined as messaging that references entities that were not present in the original prompt.\"\n",
    "    prompt = \"\"\"Help me determine if there are any hallucinations in the following generated message. A hallucination is defined as messaging that references entities that were not present in the original prompt.\n",
    "\n",
    "==== START PROMPT ====\n",
    "{message_prompt}\n",
    "==== END PROMPT ====\n",
    "\n",
    "==== START MESSAGE ====\n",
    "{message}\n",
    "==== END MESSAGE ====\n",
    "\n",
    "Please return a JSON object such as the following:\n",
    "{{\n",
    "    \"hallucinations\": [\"Apple\", \"U.S. Air Force\"]\n",
    "}}\n",
    "Just return the JSON string object, no prose. Do not include ```json. We will use json.loads().\n",
    "\n",
    "If there are no hallucinations, just return an empty list\n",
    "\n",
    "Output:\n",
    "\"\"\".format(\n",
    "    message_prompt=message_prompt,\n",
    "    message=message\n",
    ")\n",
    "    \n",
    "    \n",
    "    response = openai.ChatCompletion.create(\n",
    "        model='gpt-4-turbo-preview',\n",
    "        messages=[\n",
    "            {\"role\": \"system\", \"content\": system_instructions},\n",
    "            {\"role\": \"user\", \"content\": prompt},\n",
    "        ],\n",
    "        max_tokens=100,\n",
    "        stop=None\n",
    "    )\n",
    "    if response is None or response[\"choices\"] is None or len(response[\"choices\"]) == 0:\n",
    "        return \"\"\n",
    "\n",
    "    choices = response[\"choices\"]\n",
    "    top_choice = choices[0]\n",
    "    preview = top_choice[\"message\"][\"content\"].strip()\n",
    "    print(preview)\n",
    "    \n",
    "    preview = json.loads(preview)\n",
    "    hallucinations = preview.get(\"hallucinations\", [])\n",
    "\n",
    "    return hallucinations"
   ]
  },
  {
   "cell_type": "code",
   "execution_count": 48,
   "metadata": {},
   "outputs": [
    {
     "name": "stdout",
     "output_type": "stream",
     "text": [
      "{\n",
      "    \"hallucinations\": [\"Facebook\"]\n",
      "}\n"
     ]
    },
    {
     "data": {
      "text/plain": [
       "['Facebook']"
      ]
     },
     "execution_count": 48,
     "metadata": {},
     "output_type": "execute_result"
    }
   ],
   "source": [
    "detect_hallucinations(\"talk about Apple\", \"Facebook is a tech company\")"
   ]
  }
 ],
 "metadata": {
  "kernelspec": {
   "display_name": "venv",
   "language": "python",
   "name": "python3"
  },
  "language_info": {
   "codemirror_mode": {
    "name": "ipython",
    "version": 3
   },
   "file_extension": ".py",
   "mimetype": "text/x-python",
   "name": "python",
   "nbconvert_exporter": "python",
   "pygments_lexer": "ipython3",
   "version": "3.9.6"
  }
 },
 "nbformat": 4,
 "nbformat_minor": 2
}
