{
 "cells": [
  {
   "cell_type": "code",
   "execution_count": 28,
   "metadata": {},
   "outputs": [
    {
     "name": "stdout",
     "output_type": "stream",
     "text": [
      "True\n",
      "0.003357999999999528\n"
     ]
    }
   ],
   "source": [
    "import csv\n",
    "import time\n",
    "\n",
    "st = time.process_time()\n",
    "\n",
    "with open('../../datasets/profanity.csv', newline='') as f:\n",
    "    reader = csv.reader(f)\n",
    "    profanity = set([row[0] for row in reader])\n",
    "\n",
    "print('shit' in profanity)\n",
    "\n",
    "print(time.process_time() - st)\n",
    "\n",
    "\n"
   ]
  },
  {
   "cell_type": "code",
   "execution_count": 20,
   "metadata": {},
   "outputs": [
    {
     "name": "stdout",
     "output_type": "stream",
     "text": [
      "[0 0 0 0 0 0 0 0 0 0 0 0 0 0 1 0 0 0 0 0]\n",
      "[0.03817878 0.07100154 0.04608454 0.01388927 0.04608454 0.04608454\n",
      " 0.04358445 0.01701246 0.04608454 0.04608454 0.04608454 0.04608454\n",
      " 0.08278124 0.04608454 0.85484003 0.04608454 0.04608454 0.04608454\n",
      " 0.03957058 0.04608454]\n",
      "0.008784000000000347\n"
     ]
    }
   ],
   "source": [
    "from profanity_check import predict, predict_prob\n",
    "import time\n",
    "\n",
    "st = time.process_time()\n",
    "string = \"Hi David. I saw that you just started at SellScale. That is awesome! I hate when I can't generate outbound\"\n",
    "string = string.split(\" \")\n",
    "print(predict(string))\n",
    "print(predict_prob(string))\n",
    "et = time.process_time()\n",
    "print( et - st)"
   ]
  },
  {
   "cell_type": "code",
   "execution_count": 21,
   "metadata": {},
   "outputs": [],
   "source": [
    "from better_profanity import profanity"
   ]
  }
 ],
 "metadata": {
  "kernelspec": {
   "display_name": "Python 3.9.6 ('venv': venv)",
   "language": "python",
   "name": "python3"
  },
  "language_info": {
   "codemirror_mode": {
    "name": "ipython",
    "version": 3
   },
   "file_extension": ".py",
   "mimetype": "text/x-python",
   "name": "python",
   "nbconvert_exporter": "python",
   "pygments_lexer": "ipython3",
   "version": "3.9.6"
  },
  "orig_nbformat": 4,
  "vscode": {
   "interpreter": {
    "hash": "60a39ed7d9ed506b3549da2e10402e1e4204e8b41b0e183e3e35940f3cb41bf2"
   }
  }
 },
 "nbformat": 4,
 "nbformat_minor": 2
}
