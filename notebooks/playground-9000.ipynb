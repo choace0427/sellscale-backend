{
 "cells": [
  {
   "cell_type": "code",
   "execution_count": 1,
   "metadata": {},
   "outputs": [],
   "source": [
    "import requests\n",
    "import json\n",
    "import pandas\n",
    "import urllib.request\n",
    "from bs4 import BeautifulSoup\n"
   ]
  },
  {
   "cell_type": "code",
   "execution_count": 2,
   "metadata": {
    "vscode": {
     "languageId": "powershell"
    }
   },
   "outputs": [
    {
     "name": "stdout",
     "output_type": "stream",
     "text": [
      "Requirement already satisfied: xlrd in /Users/aakash/opt/anaconda3/envs/finance/lib/python3.6/site-packages (2.0.1)\n",
      "Requirement already satisfied: bs4 in /Users/aakash/opt/anaconda3/envs/finance/lib/python3.6/site-packages (0.0.1)\n",
      "Requirement already satisfied: beautifulsoup4 in /Users/aakash/opt/anaconda3/envs/finance/lib/python3.6/site-packages (from bs4) (4.11.1)\n",
      "Requirement already satisfied: soupsieve>1.2 in /Users/aakash/opt/anaconda3/envs/finance/lib/python3.6/site-packages (from beautifulsoup4->bs4) (2.3.2.post1)\n",
      "Requirement already satisfied: openpyxl in /Users/aakash/opt/anaconda3/envs/finance/lib/python3.6/site-packages (3.0.10)\n",
      "Requirement already satisfied: et-xmlfile in /Users/aakash/opt/anaconda3/envs/finance/lib/python3.6/site-packages (from openpyxl) (1.1.0)\n",
      "Note: you may need to restart the kernel to use updated packages.\n"
     ]
    }
   ],
   "source": [
    "pip install xlrd && pip install bs4 && pip install openpyxl"
   ]
  },
  {
   "cell_type": "code",
   "execution_count": 3,
   "metadata": {},
   "outputs": [
    {
     "data": {
      "text/plain": [
       "8300"
      ]
     },
     "execution_count": 3,
     "metadata": {},
     "output_type": "execute_result"
    }
   ],
   "source": [
    "COMPANIES_SPREADSHEET_PWD = '/Users/aakash/Desktop/sellscale-api/notebooks/playground-with-websites.csv'\n",
    "\n",
    "companies_df = pandas.read_csv(COMPANIES_SPREADSHEET_PWD)\n",
    "len(companies_df)"
   ]
  },
  {
   "cell_type": "code",
   "execution_count": 17,
   "metadata": {},
   "outputs": [],
   "source": [
    "\n",
    "def find_points_from_website(url):\n",
    "    fp = urllib.request.urlopen(url)\n",
    "    mybytes = fp.read()\n",
    "\n",
    "    mystr = mybytes.decode(\"utf8\")\n",
    "    fp.close()\n",
    "\n",
    "    c = []\n",
    "\n",
    "    soup = BeautifulSoup(mystr, 'html.parser')\n",
    "    ps = soup.find_all('p')\n",
    "    for p in ps:\n",
    "        if len(p.contents) > 0:\n",
    "            contents = \"\".join([str(x) for x in p.contents])\n",
    "            if '<' not in contents and len(contents) > 130 and 'contact us' not in contents.lower() and 'learn more' not in contents.lower() and 'disclaimer' not in contents.lower():\n",
    "                contents = contents.replace(u'\\xa0', u' ')\n",
    "                contents = contents.strip()\n",
    "                c.append(contents)\n",
    "    \n",
    "    return c\n"
   ]
  },
  {
   "cell_type": "code",
   "execution_count": 4,
   "metadata": {},
   "outputs": [],
   "source": [
    "\n",
    "url = \"https://palmbeachpreschool.com/\"\n",
    "\n",
    "def contains_procare(url):\n",
    "    user_agent = 'Mozilla/5.0 (Windows; U; Windows NT 5.1; en-US; rv:1.9.0.7) Gecko/2009021910 Firefox/3.0.7'\n",
    "    headers={'User-Agent':user_agent,} \n",
    "\n",
    "    request=urllib.request.Request(url,None,headers)\n",
    "    fp = urllib.request.urlopen(request)\n",
    "\n",
    "    mybytes = fp.read()\n",
    "\n",
    "    mystr = mybytes.decode(\"utf8\")\n",
    "    fp.close()\n",
    "\n",
    "    c = []\n",
    "\n",
    "    soup = BeautifulSoup(mystr, 'html.parser')\n",
    "    return 'myprocare' in mystr"
   ]
  },
  {
   "cell_type": "code",
   "execution_count": 29,
   "metadata": {},
   "outputs": [],
   "source": [
    "c = 0\n",
    "for index, row in companies_df.iterrows():\n",
    "    if c <= 264:\n",
    "        c += 1\n",
    "        continue\n",
    "    website = row['Top Google Website']\n",
    "    contains = False\n",
    "    try:\n",
    "        contains = contains_procare(website)\n",
    "    except:\n",
    "        pass\n",
    "    with open('test.csv', 'a') as f:\n",
    "        f.write(''.join([str(c), ',', str(website), ',', str(contains)]))\n",
    "        f.write(\"\\n\")\n",
    "        f.close()\n",
    "    c += 1"
   ]
  },
  {
   "cell_type": "code",
   "execution_count": 8,
   "metadata": {},
   "outputs": [],
   "source": [
    "for index, row in companies_df.iterrows():\n",
    "    website = row['Top Google Website']\n",
    "    try:\n",
    "        if contains_procare(website):\n",
    "            print(website, ' is using Procare')\n",
    "    except:\n",
    "        pass"
   ]
  }
 ],
 "metadata": {
  "kernelspec": {
   "display_name": "Python 3.6.10 64-bit ('finance')",
   "language": "python",
   "name": "python3"
  },
  "language_info": {
   "codemirror_mode": {
    "name": "ipython",
    "version": 3
   },
   "file_extension": ".py",
   "mimetype": "text/x-python",
   "name": "python",
   "nbconvert_exporter": "python",
   "pygments_lexer": "ipython3",
   "version": "3.6.10"
  },
  "orig_nbformat": 4,
  "vscode": {
   "interpreter": {
    "hash": "9fae0252a4ba5c41e93bad5705ae373e5b342bbc9f3d1af417d8191009e6689a"
   }
  }
 },
 "nbformat": 4,
 "nbformat_minor": 2
}
