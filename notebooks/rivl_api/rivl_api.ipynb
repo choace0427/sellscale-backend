{
 "cells": [
  {
   "cell_type": "code",
   "execution_count": 6,
   "metadata": {},
   "outputs": [],
   "source": [
    "def get_competitor_urls(source_url: str):\n",
    "    import requests\n",
    "\n",
    "    url = \"https://api.rivl.ai/v1/query\"\n",
    "\n",
    "    payload = '{\"domain\":\"' + source_url + '\",\"competition\":true, \"results\": 30}'\n",
    "    headers = {\n",
    "        \"authority\": \"api.rivl.ai\",\n",
    "        \"accept\": \"*/*\",\n",
    "        \"accept-language\": \"en-US,en;q=0.9\",\n",
    "        \"content-type\": \"text/plain;charset=UTF-8\",\n",
    "        \"dnt\": \"1\",\n",
    "        \"origin\": \"https://www.search.rivl.ai\",\n",
    "        \"referer\": \"https://www.search.rivl.ai/\",\n",
    "        \"sec-ch-ua\": '\"Not_A Brand\";v=\"8\", \"Chromium\";v=\"120\"',\n",
    "        \"sec-ch-ua-mobile\": \"?0\",\n",
    "        \"sec-ch-ua-platform\": '\"macOS\"',\n",
    "        \"sec-fetch-dest\": \"empty\",\n",
    "        \"sec-fetch-mode\": \"cors\",\n",
    "        \"sec-fetch-site\": \"same-site\",\n",
    "        \"user-agent\": \"Mozilla/5.0 (Macintosh; Intel Mac OS X 10_15_7) AppleWebKit/537.36 (KHTML, like Gecko) Chrome/120.0.0.0 Safari/537.36\",\n",
    "        \"x-api-key\": \"9k40VDpXCQ7oxiT3a6hiU47T1O9SNufq1v2yDbgL\",\n",
    "    }\n",
    "\n",
    "    response = requests.request(\"POST\", url, headers=headers, data=payload)\n",
    "\n",
    "    return response.json()[\"results\"]\n",
    "\n",
    "\n",
    "import csv\n",
    "import requests\n",
    "\n",
    "\n",
    "def create_competitors_csv(new_csv_file_name: str, source_urls: list):\n",
    "    with open(new_csv_file_name, mode=\"w\", newline=\"\", encoding=\"utf-8\") as file:\n",
    "        writer = csv.writer(file)\n",
    "        writer.writerow([\"Source URL\", \"Competitor URL\", \"Competitor Score\"])\n",
    "\n",
    "        for source_url in source_urls:\n",
    "            try:\n",
    "                competitors = get_competitor_urls(source_url)\n",
    "                for competitor_url, score in competitors.items():\n",
    "                    writer.writerow([source_url, competitor_url, score])\n",
    "            except Exception as e:\n",
    "                print(f\"Error processing {source_url}: {e}\")"
   ]
  },
  {
   "cell_type": "code",
   "execution_count": 22,
   "metadata": {},
   "outputs": [
    {
     "name": "stdout",
     "output_type": "stream",
     "text": [
      "Error processing hyper.co: 'results'\n"
     ]
    }
   ],
   "source": [
    "doppler_customers = [\n",
    "    \"endearhq.com\",\n",
    "    \"traivefinance.com\",\n",
    "    \"hyper.co\",\n",
    "    \"whatnot.com\",\n",
    "    \"clickup.com\",\n",
    "    \"puma.com\",\n",
    "    \"ezcater.com\",\n",
    "    \"toasttab.com\",\n",
    "    \"retraced.com\",\n",
    "    \"outreach.io\",\n",
    "    \"paylocity.com\",\n",
    "    \"tripadvisor.com\",\n",
    "    \"beachbodyondemand.com\",\n",
    "    \"coreweave.com\",\n",
    "]\n",
    "create_competitors_csv(\"competitors.csv\", doppler_customers)"
   ]
  },
  {
   "cell_type": "code",
   "execution_count": null,
   "metadata": {},
   "outputs": [],
   "source": []
  }
 ],
 "metadata": {
  "kernelspec": {
   "display_name": "venv",
   "language": "python",
   "name": "python3"
  },
  "language_info": {
   "codemirror_mode": {
    "name": "ipython",
    "version": 3
   },
   "file_extension": ".py",
   "mimetype": "text/x-python",
   "name": "python",
   "nbconvert_exporter": "python",
   "pygments_lexer": "ipython3",
   "version": "3.10.6"
  },
  "orig_nbformat": 4
 },
 "nbformat": 4,
 "nbformat_minor": 2
}
