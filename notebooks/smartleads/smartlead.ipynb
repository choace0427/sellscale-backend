{
 "cells": [
  {
   "cell_type": "code",
   "execution_count": 1,
   "metadata": {},
   "outputs": [],
   "source": [
    "API_KEY = 'a6af2051-a60d-4d5b-ae19-994ff9f22f24_up9205w'"
   ]
  },
  {
   "cell_type": "code",
   "execution_count": 27,
   "metadata": {},
   "outputs": [
    {
     "name": "stdout",
     "output_type": "stream",
     "text": [
      "[{'id': 387060, 'created_at': '2023-10-27T18:11:13.050Z', 'updated_at': '2023-10-27T18:11:13.050Z', 'email_campaign_id': 123383, 'seq_number': 1, 'seq_delay_details': {'delayInDays': 1}, 'subject': '{{subject_line}}', 'email_body': '<div>{{body}}&nbsp;</div>', 'sequence_variants': None}]\n",
      "{'id': 123383, 'user_id': 14098, 'created_at': '2023-10-27T18:11:00.932Z', 'updated_at': '2023-11-07T05:05:09.172Z', 'status': 'ARCHIVED', 'name': 'Jennifer / Worley - Test Campaign', 'track_settings': [], 'scheduler_cron_value': {'tz': 'America/Los_Angeles', 'days': [1, 2, 3, 4, 5], 'endHour': '18:00', 'startHour': '09:00'}, 'min_time_btwn_emails': 20, 'max_leads_per_day': 100, 'stop_lead_settings': 'REPLY_TO_AN_EMAIL', 'enable_ai_esp_matching': False, 'send_as_plain_text': False, 'follow_up_percentage': 100, 'unsubscribe_text': None, 'client_id': None}\n",
      "[{'id': 492739, 'created_at': '2023-10-27T18:03:11.485Z', 'updated_at': '2023-11-07T04:47:11.573Z', 'user_id': 14098, 'from_name': 'Jennifer Lee', 'from_email': 'jennifer@withworley.com', 'username': 'jennifer@withworley.com', 'password': None, 'smtp_host': None, 'smtp_port': None, 'smtp_port_type': None, 'message_per_day': 5, 'different_reply_to_address': '', 'is_different_imap_account': False, 'imap_username': None, 'imap_password': None, 'imap_host': None, 'imap_port': None, 'imap_port_type': None, 'signature': None, 'custom_tracking_domain': '', 'bcc_email': None, 'is_smtp_success': True, 'is_imap_success': True, 'smtp_failure_error': None, 'imap_failure_error': None, 'type': 'GMAIL', 'daily_sent_count': 0, 'client_id': None, 'warmup_details': {'id': 454811, 'status': 'ACTIVE', 'total_sent_count': 125, 'total_spam_count': 4, 'warmup_reputation': '97%'}}]\n",
      "{'total_leads': '1', 'data': [{'campaign_lead_map_id': '168640089', 'lead_category_id': None, 'status': 'COMPLETED', 'created_at': '2023-10-27T18:11:00.000Z', 'lead': {'id': 197344248, 'first_name': None, 'last_name': None, 'email': 'aakash.adesara@gmail.com', 'phone_number': None, 'company_name': None, 'website': None, 'location': None, 'custom_fields': {'body': 'Hey Aakash\\n\\nJust wanted to see if you got this email. Great catching up last week.\\n\\nCheers,\\nJennifer\\n\\nPS - This is a test', 'subject_line': 'Hey Aakash! Whatsup?'}, 'linkedin_profile': None, 'company_url': None, 'is_unsubscribed': False, 'unsubscribed_client_id_map': {}}}], 'offset': 0, 'limit': 10}\n"
     ]
    }
   ],
   "source": [
    "import requests\n",
    "import json\n",
    "\n",
    "class Smartlead:\n",
    "    BASE_URL = 'https://server.smartlead.ai/api/v1'\n",
    "\n",
    "    def __init__(self, api_key):\n",
    "        self.api_key = api_key\n",
    "\n",
    "    # add create campaign method\n",
    "\n",
    "    def get_campaign_sequences(self, campaign_id):\n",
    "        url = f\"{self.BASE_URL}/campaigns/{campaign_id}/sequences?api_key={self.api_key}\"\n",
    "        response = requests.get(url)\n",
    "        return response.json()\n",
    "\n",
    "    def get_campaign(self, campaign_id):\n",
    "        url = f\"{self.BASE_URL}/campaigns/{campaign_id}?api_key={self.api_key}\"\n",
    "        response = requests.get(url)\n",
    "        return response.json()\n",
    "\n",
    "    def get_campaign_email_accounts(self, campaign_id):\n",
    "        url = f\"{self.BASE_URL}/campaigns/{campaign_id}/email-accounts?api_key={self.api_key}\"\n",
    "        response = requests.get(url)\n",
    "        return response.json()\n",
    "\n",
    "    def get_campaign_leads(self, campaign_id, offset=0, limit=10):\n",
    "        url = f\"{self.BASE_URL}/campaigns/{campaign_id}/leads?api_key={self.api_key}&offset={offset}&limit={limit}\"\n",
    "        response = requests.get(url)\n",
    "        return response.json()\n",
    "    \n",
    "    def post_campaign_leads(self, campaign_id, lead_list):\n",
    "        \"\"\"`lead_list` format is \n",
    "            \n",
    "        lead_list = [\n",
    "            {\n",
    "                \"first_name\": \"Cristiano\",\n",
    "                \"last_name\": \"Ronaldo\",\n",
    "                \"email\": \"cristiano@mufc.com\",\n",
    "                \"phone_number\": \"0239392029\",\n",
    "                \"company_name\": \"Manchester United\",\n",
    "                \"website\": \"mufc.com\",\n",
    "                \"location\": \"London\",\n",
    "                \"custom_fields\": {\n",
    "                    \"Title\": \"Regional Manager\",\n",
    "                    \"First_Line\": \"Loved your recent post about remote work on Linkedin\"\n",
    "                },\n",
    "                \"linkedin_profile\": \"http://www.linkedin.com/in/cristianoronaldo\",\n",
    "                \"company_url\": \"mufc.com\"\n",
    "            }\n",
    "            # ... (add up to 100 leads)\n",
    "        ]\n",
    "        \"\"\"\n",
    "        settings = {\n",
    "            \"ignore_global_block_list\": True,\n",
    "            \"ignore_unsubscribe_list\": True,\n",
    "            \"ignore_duplicate_leads_in_other_campaign\": False\n",
    "        }\n",
    "        if not isinstance(lead_list, list) or not isinstance(settings, dict):\n",
    "            raise ValueError(\"lead_list must be a list and settings must be a dictionary.\")\n",
    "\n",
    "        if len(lead_list) > 100:\n",
    "            raise ValueError(\"You can only send a maximum of 100 leads at a time.\")\n",
    "\n",
    "        url = f\"{self.BASE_URL}/campaigns/{campaign_id}/leads?api_key={self.api_key}\"\n",
    "        data = {\n",
    "            \"lead_list\": lead_list,\n",
    "            \"settings\": settings\n",
    "        }\n",
    "        headers = {'Content-Type': 'application/json'}\n",
    "        response = requests.post(url, headers=headers, data=json.dumps(data))\n",
    "        return response.json()\n",
    "\n",
    "# Example usage:\n",
    "api_key = API_KEY\n",
    "campaign_id = '123383'\n",
    "\n",
    "smartlead = Smartlead(api_key)\n",
    "sequences = smartlead.get_campaign_sequences(campaign_id)\n",
    "campaign = smartlead.get_campaign(campaign_id)\n",
    "email_accounts = smartlead.get_campaign_email_accounts(campaign_id)\n",
    "leads = smartlead.get_campaign_leads(campaign_id, offset=0, limit=10)\n",
    "\n",
    "print(sequences)\n",
    "print(campaign)\n",
    "print(email_accounts)\n",
    "print(leads)\n"
   ]
  },
  {
   "cell_type": "code",
   "execution_count": 28,
   "metadata": {},
   "outputs": [],
   "source": [
    "lead_list = [\n",
    "    {\n",
    "        \"first_name\": \"Cristiano\",\n",
    "        \"last_name\": \"Ronaldo\",\n",
    "        \"email\": \"cristiano@mufc.com\",\n",
    "        \"phone_number\": \"0239392029\",\n",
    "        \"company_name\": \"Manchester United\",\n",
    "        \"website\": \"mufc.com\",\n",
    "        \"location\": \"London\",\n",
    "        \"custom_fields\": {\n",
    "            \"Title\": \"Regional Manager\",\n",
    "            \"First_Line\": \"Loved your recent post about remote work on Linkedin\"\n",
    "        },\n",
    "        \"linkedin_profile\": \"http://www.linkedin.com/in/cristianoronaldo\",\n",
    "        \"company_url\": \"mufc.com\"\n",
    "    }\n",
    "    # ... (add up to 100 leads)\n",
    "]\n",
    "\n",
    "\n",
    "\n",
    "response = smartlead.post_campaign_leads(campaign_id, lead_list)\n"
   ]
  },
  {
   "cell_type": "code",
   "execution_count": null,
   "metadata": {},
   "outputs": [],
   "source": []
  }
 ],
 "metadata": {
  "kernelspec": {
   "display_name": "venv",
   "language": "python",
   "name": "python3"
  },
  "language_info": {
   "codemirror_mode": {
    "name": "ipython",
    "version": 3
   },
   "file_extension": ".py",
   "mimetype": "text/x-python",
   "name": "python",
   "nbconvert_exporter": "python",
   "pygments_lexer": "ipython3",
   "version": "3.10.6"
  },
  "orig_nbformat": 4,
  "vscode": {
   "interpreter": {
    "hash": "60a39ed7d9ed506b3549da2e10402e1e4204e8b41b0e183e3e35940f3cb41bf2"
   }
  }
 },
 "nbformat": 4,
 "nbformat_minor": 2
}
