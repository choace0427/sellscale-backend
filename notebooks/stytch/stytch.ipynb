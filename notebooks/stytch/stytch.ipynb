{
 "cells": [
  {
   "cell_type": "code",
   "execution_count": 17,
   "metadata": {},
   "outputs": [
    {
     "name": "stdout",
     "output_type": "stream",
     "text": [
      "/Users/davidwei/Documents/SellScale/sellscale-api/notebooks/stytch\n"
     ]
    }
   ],
   "source": [
    "from dotenv import load_dotenv\n",
    "from pathlib import Path\n",
    "import os\n",
    "import sys\n",
    "import json\n",
    "import requests\n",
    "\n",
    "env_path = Path('../..') / '.env'\n",
    "load_dotenv(dotenv_path=env_path)\n",
    "\n",
    "print(os.getcwd())\n",
    "sys.path.append('/Users/davidwei/Documents/SellScale/sellscale-api/notebooks/stytch')"
   ]
  },
  {
   "cell_type": "code",
   "execution_count": 20,
   "metadata": {},
   "outputs": [],
   "source": [
    "from stytch import Client\n",
    "\n",
    "STYTCH_PROJECT_ID = os.environ.get('STYTCH_PROJECT_ID')\n",
    "STYTCH_SECRET = os.environ.get('STYTCH_SECRET')\n",
    "STYTCH_BASE_URL = 'https://sight.sellscale.com/authenticate?'\n",
    "\n",
    "def send_magic_link(email):\n",
    "    print(STYTCH_PROJECT_ID, STYTCH_SECRET, STYTCH_BASE_URL)\n",
    "    client = Client(\n",
    "        project_id=STYTCH_PROJECT_ID,\n",
    "        secret=STYTCH_SECRET,\n",
    "        environment=\"live\",\n",
    "    )\n",
    "    response = client.magic_links.email.login_or_create(\n",
    "        email=email,\n",
    "        login_magic_link_url=STYTCH_BASE_URL,\n",
    "    ).json()\n",
    "    return response"
   ]
  },
  {
   "cell_type": "code",
   "execution_count": 22,
   "metadata": {},
   "outputs": [
    {
     "name": "stdout",
     "output_type": "stream",
     "text": [
      "project-live-4a69361b-46ea-4a7f-8860-ae36599571b1 secret-live-n8SDQ2RMCH0AGdZTX_ATkzkJHWwbEZxvpaw= https://sight.sellscale.com/authenticate?\n"
     ]
    },
    {
     "data": {
      "text/plain": [
       "{'email_id': 'email-live-559cc475-160e-4019-bacb-e968e19d7c11',\n",
       " 'request_id': 'request-id-live-3429bd19-ba04-4bf8-9b27-eee05eeaeb33',\n",
       " 'status_code': 200,\n",
       " 'user_created': False,\n",
       " 'user_id': 'user-live-8a897689-d3f1-4f71-bf90-c1e71291fba3'}"
      ]
     },
     "execution_count": 22,
     "metadata": {},
     "output_type": "execute_result"
    }
   ],
   "source": [
    "send_magic_link('david@sellscale.com')"
   ]
  },
  {
   "cell_type": "code",
   "execution_count": 25,
   "metadata": {},
   "outputs": [],
   "source": [
    "def authenticate_stytch_client_sdr_token(token: str):\n",
    "    from stytch import Client\n",
    "\n",
    "    client = Client(\n",
    "        project_id=STYTCH_PROJECT_ID,\n",
    "        secret=STYTCH_SECRET,\n",
    "        environment=\"live\",\n",
    "    )\n",
    "    return client.magic_links.authenticate(token).json()"
   ]
  },
  {
   "cell_type": "code",
   "execution_count": 26,
   "metadata": {},
   "outputs": [
    {
     "data": {
      "text/plain": [
       "{'method_id': 'email-live-559cc475-160e-4019-bacb-e968e19d7c11',\n",
       " 'request_id': 'request-id-live-39482395-a739-4d6c-af38-19dd937c3a5d',\n",
       " 'reset_sessions': False,\n",
       " 'session': None,\n",
       " 'session_jwt': '',\n",
       " 'session_token': '',\n",
       " 'status_code': 200,\n",
       " 'user': {'biometric_registrations': [],\n",
       "  'created_at': '2022-12-07T19:24:59Z',\n",
       "  'crypto_wallets': [],\n",
       "  'emails': [{'email': 'david@sellscale.com',\n",
       "    'email_id': 'email-live-559cc475-160e-4019-bacb-e968e19d7c11',\n",
       "    'verified': True}],\n",
       "  'name': {'first_name': '', 'last_name': '', 'middle_name': ''},\n",
       "  'password': None,\n",
       "  'phone_numbers': [],\n",
       "  'providers': [],\n",
       "  'status': 'active',\n",
       "  'totps': [],\n",
       "  'trusted_metadata': {},\n",
       "  'untrusted_metadata': {},\n",
       "  'user_id': 'user-live-8a897689-d3f1-4f71-bf90-c1e71291fba3',\n",
       "  'webauthn_registrations': []},\n",
       " 'user_id': 'user-live-8a897689-d3f1-4f71-bf90-c1e71291fba3'}"
      ]
     },
     "execution_count": 26,
     "metadata": {},
     "output_type": "execute_result"
    }
   ],
   "source": [
    "authenticate_stytch_client_sdr_token('XohGCjGmxF87POlRhmbyv5WNzHwNvQS_2X7uU67XYESM')"
   ]
  }
 ],
 "metadata": {
  "kernelspec": {
   "display_name": "venv",
   "language": "python",
   "name": "python3"
  },
  "language_info": {
   "codemirror_mode": {
    "name": "ipython",
    "version": 3
   },
   "file_extension": ".py",
   "mimetype": "text/x-python",
   "name": "python",
   "nbconvert_exporter": "python",
   "pygments_lexer": "ipython3",
   "version": "3.9.6"
  },
  "orig_nbformat": 4,
  "vscode": {
   "interpreter": {
    "hash": "60a39ed7d9ed506b3549da2e10402e1e4204e8b41b0e183e3e35940f3cb41bf2"
   }
  }
 },
 "nbformat": 4,
 "nbformat_minor": 2
}
