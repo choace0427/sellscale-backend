{
 "cells": [
  {
   "cell_type": "code",
   "execution_count": 9,
   "metadata": {},
   "outputs": [
    {
     "name": "stdout",
     "output_type": "stream",
     "text": [
      "Column names are prompt, completion, mistake, fix, , \n"
     ]
    }
   ],
   "source": [
    "import csv\n",
    "\n",
    "with open('../../datasets/adversarial_layer/structured_py_processed_data.csv', 'w') as wf:\n",
    "\n",
    "    fieldnames = ['prompt', 'completion']\n",
    "    writer = csv.DictWriter(wf, fieldnames=fieldnames)\n",
    "    writer.writeheader()\n",
    "\n",
    "    with open('../../datasets/adversarial_layer/structured_raw_data.csv', 'r') as rf:\n",
    "        reader = csv.reader(rf, delimiter=',')\n",
    "        line_count = 0\n",
    "        for row in reader:\n",
    "            if line_count == 0:\n",
    "                print(f'Column names are {\", \".join(row)}')\n",
    "                line_count += 1\n",
    "            else:\n",
    "                processed_prompt = \"instruction: Given the prompt and the completion, find the mistake in the completion, if any. If mistake found, propose a fix.\" + \"\\n---\\n\" + \"prompt: \\\"\\\"\\\"\" + row[0] + \"\\\"\\\"\\\"\" + \"\\n---\\n\" + \"completion: \\\"\\\"\\\"\" + row[1] + \"\\\"\\\"\\\"\" + \"\\n---\\n\" + \"mistake:\"\n",
    "                processed_completion = \"\\\"\\\"\\\"\" + row[2] + \"\\\"\\\"\\\"\" + \"\\n---\\n\" + \"fix: \\\"\\\"\\\"\" + row[3] + \"\\\"\\\"\\\"\" + \"\\n---\\n\" + \"XXX_END_GEN_XXX\"\n",
    "                writer.writerow({\n",
    "                    'prompt': processed_prompt,\n",
    "                    'completion': processed_completion\n",
    "                })\n",
    "                line_count += 1"
   ]
  }
 ],
 "metadata": {
  "kernelspec": {
   "display_name": "Python 3.9.6 ('venv': venv)",
   "language": "python",
   "name": "python3"
  },
  "language_info": {
   "codemirror_mode": {
    "name": "ipython",
    "version": 3
   },
   "file_extension": ".py",
   "mimetype": "text/x-python",
   "name": "python",
   "nbconvert_exporter": "python",
   "pygments_lexer": "ipython3",
   "version": "3.9.6"
  },
  "orig_nbformat": 4,
  "vscode": {
   "interpreter": {
    "hash": "60a39ed7d9ed506b3549da2e10402e1e4204e8b41b0e183e3e35940f3cb41bf2"
   }
  }
 },
 "nbformat": 4,
 "nbformat_minor": 2
}
