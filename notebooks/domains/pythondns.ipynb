{
 "cells": [
  {
   "cell_type": "code",
   "execution_count": 3,
   "metadata": {},
   "outputs": [
    {
     "name": "stdout",
     "output_type": "stream",
     "text": [
      "SPF Record: \"v=spf1 include:_spf.google.com ~all\"\n",
      "FAIL\n",
      "DMARC Record: \"v=DMARC1; p=none; rua=mailto:engineering@sellscale.com; adkim=r; aspf=r\"\n",
      "DKIM Record: \"v=DKIM1; k=rsa; p=MIIBIjANBgkqhkiG9w0BAQEFAAOCAQ8AMIIBCgKCAQEA0bVJzsJkeElxVNmfVm00kab+WzTVxTYZlKHAq19L9UKRifj6462LH9f82PqM3FrJdd0lnnN3Weja7HlDcKIB8jndncMHrIFEzLtPEussw6bvY3EUaUhawGTUK8i2Wy8hlYeQBRKwn0jojgKxm9hMnqeA4RNJGXUWl7441gwtqHyHHWRWYmNReYIhrNCfimcYw\" \"yXtvShgpuSpH6DLlZ+Ujvz3AxX0Kkhc/sFLdfWgGOKQ0nv4WSrnSrwHIgIkYwdXRRHJjgl9rhtqviWnsND5dUJ9py38Zc08SvyCBMWjoeu3DzosPy3QHkLuRCaf9Gy9lf8/B3uZjf390dlAyVPr8QIDAQAB\"\n"
     ]
    }
   ],
   "source": [
    "import dns.resolver\n",
    "\n",
    "# Domain for which you want to query SPF and DMARC records\n",
    "domain = \"trylatchbio.com\"\n",
    "\n",
    "# Query SPF record\n",
    "try:\n",
    "    spf_answers = dns.resolver.resolve(domain, \"TXT\")\n",
    "    for answer in spf_answers:\n",
    "        spf_text = answer.to_text()\n",
    "        spf_text = spf_text.strip(\"\\\"\")\n",
    "        if spf_text.startswith(\"v=spf1\"):\n",
    "            spf_record = answer.to_text()\n",
    "            print(\"SPF Record:\", spf_record)\n",
    "except dns.resolver.NXDOMAIN:\n",
    "    print(f\"No SPF record found for {domain}\")\n",
    "\n",
    "# Query DMARC record\n",
    "try:\n",
    "    dmarc_answers = dns.resolver.resolve(\"_dmarc.\" + domain, \"TXT\")\n",
    "    for answer in dmarc_answers:\n",
    "        dmarc_record = answer.to_text()\n",
    "\n",
    "        if f\"rua=mailto:sellscale@{domain}\" not in dmarc_record:\n",
    "                print(\"FAIL\")\n",
    "\n",
    "        print(\"DMARC Record:\", dmarc_record)\n",
    "except dns.resolver.NXDOMAIN:\n",
    "    print(f\"No DMARC record found for {domain}\")\n",
    "\n",
    "# Query DKIM record\n",
    "try:\n",
    "    dkim_answers = dns.resolver.resolve(\"google._domainkey.\" + domain, \"TXT\")\n",
    "    for answer in dkim_answers:\n",
    "        dkim_record = answer.to_text()\n",
    "        print(\"DKIM Record:\", dkim_record)\n",
    "except dns.resolver.NXDOMAIN:\n",
    "    print(f\"No DKIM record found for {domain}\")\n"
   ]
  }
 ],
 "metadata": {
  "kernelspec": {
   "display_name": "venv",
   "language": "python",
   "name": "python3"
  },
  "language_info": {
   "codemirror_mode": {
    "name": "ipython",
    "version": 3
   },
   "file_extension": ".py",
   "mimetype": "text/x-python",
   "name": "python",
   "nbconvert_exporter": "python",
   "pygments_lexer": "ipython3",
   "version": "3.9.6"
  },
  "orig_nbformat": 4
 },
 "nbformat": 4,
 "nbformat_minor": 2
}
