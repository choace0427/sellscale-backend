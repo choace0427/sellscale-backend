{
 "cells": [
  {
   "cell_type": "code",
   "execution_count": 13,
   "metadata": {},
   "outputs": [
    {
     "name": "stdout",
     "output_type": "stream",
     "text": [
      "v=spf1 include:_spf.google.com ~all\n",
      "SPF Record: \"v=spf1 include:_spf.google.com ~all\"\n",
      "DMARC Record: \"v=DMARC1; p=quarantine; rua=mailto:sellscale@dopplertechnology.net; adkim=r; aspf=r\"\n",
      "DKIM Record: \"v=DKIM1; k=rsa; p=MIIBIjANBgkqhkiG9w0BAQEFAAOCAQ8AMIIBCgKCAQEAi6yPSAoI/p2oI8nNpOp4hWr6ZP8rGFmS4bbh0Ldi8Jy5GvtYAI6Xck9kWDkv7LNgxmy+cycy1lErbgDX2fmmKRYS/BiZVLTozOJmDyU9O31/N0lWmWknsN2D9ujdI3suRzjJnhYwP+JDgHmmoaV6dDyEJS/qWG4PhdpHfLZcmkr9Nu1D+FUxplktavPVrg7zC\" \"Gi0FRCWEEYy/Px3Ewxz5JOfZX/4sn0p30MEIomG+aKFMKu7hMjuigIXHZSJj3gI877WgdXZaWXVKr8/57zSQ/Cm0ODI2rtLpqmEUHbbbhKrOdti5rj4NxEhkqyJ9uNRuSaw3zl6SpepYrsWi6TRUQIDAQAB\"\n"
     ]
    }
   ],
   "source": [
    "import dns.resolver\n",
    "\n",
    "# Domain for which you want to query SPF and DMARC records\n",
    "domain = \"dopplertechnology.net\"\n",
    "\n",
    "# Query SPF record\n",
    "try:\n",
    "    spf_answers = dns.resolver.resolve(domain, \"TXT\")\n",
    "    for answer in spf_answers:\n",
    "        spf_text = answer.to_text()\n",
    "        spf_text = spf_text.strip(\"\\\"\")\n",
    "\n",
    "        if spf_text != \"v=spf1 include:_spf.google.com ~all\":\n",
    "            print('ruh roh')\n",
    "\n",
    "        if spf_text.startswith(\"v=spf1\"):\n",
    "            spf_record = answer.to_text()\n",
    "            print(\"SPF Record:\", spf_record)\n",
    "except:\n",
    "    print(f\"No SPF record found for {domain}\")\n",
    "\n",
    "# Query DMARC record\n",
    "try:\n",
    "    dmarc_answers = dns.resolver.resolve(\"_dmarc.\" + domain, \"TXT\")\n",
    "    for answer in dmarc_answers:\n",
    "        dmarc_record = answer.to_text()\n",
    "        print(\"DMARC Record:\", dmarc_record)\n",
    "except:\n",
    "    print(f\"No DMARC record found for {domain}\")\n",
    "\n",
    "# Query DKIM record\n",
    "try:\n",
    "    dkim_answers = dns.resolver.resolve(\"google._domainkey.\" + domain, \"TXT\")\n",
    "    for answer in dkim_answers:\n",
    "        dkim_record = answer.to_text()\n",
    "        print(\"DKIM Record:\", dkim_record)\n",
    "except:\n",
    "    print(f\"No DKIM record found for {domain}\")\n"
   ]
  }
 ],
 "metadata": {
  "kernelspec": {
   "display_name": "venv",
   "language": "python",
   "name": "python3"
  },
  "language_info": {
   "codemirror_mode": {
    "name": "ipython",
    "version": 3
   },
   "file_extension": ".py",
   "mimetype": "text/x-python",
   "name": "python",
   "nbconvert_exporter": "python",
   "pygments_lexer": "ipython3",
   "version": "3.9.6"
  },
  "orig_nbformat": 4
 },
 "nbformat": 4,
 "nbformat_minor": 2
}
