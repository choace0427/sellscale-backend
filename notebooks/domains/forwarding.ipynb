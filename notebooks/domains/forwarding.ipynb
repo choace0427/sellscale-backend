{
 "cells": [
  {
   "cell_type": "code",
   "execution_count": 15,
   "metadata": {},
   "outputs": [
    {
     "name": "stdout",
     "output_type": "stream",
     "text": [
      "http://tryaskedith.com is redirected to https://www.athenic.com, but not to https://sellscale.com\n"
     ]
    },
    {
     "data": {
      "text/plain": [
       "False"
      ]
     },
     "execution_count": 15,
     "metadata": {},
     "output_type": "execute_result"
    }
   ],
   "source": [
    "import requests\n",
    "\n",
    "def check_domain_forwarding(original_domain, target_domain):\n",
    "    print(f\"Checking if '{original_domain}' forwards to '{target_domain}'...\")\n",
    "    attempts = 0\n",
    "    while attempts < 3:\n",
    "        attempts += 1\n",
    "        try:\n",
    "            response = requests.get(original_domain, allow_redirects=True)\n",
    "            final_url = response.url\n",
    "            if final_url == target_domain:\n",
    "                print(f\"{original_domain} forwards to {target_domain}\")\n",
    "                return True\n",
    "            else:\n",
    "                print(f\"{original_domain} is redirected to {final_url}, but not to {target_domain}\")\n",
    "                return False\n",
    "        except requests.RequestException as e:\n",
    "            print(f\"Error checking domain forwarding: {e}\")\n",
    "            if attempts < 2:\n",
    "                print(f\"Retrying...\")\n",
    "                \n",
    "    return False\n",
    "\n",
    "# Example usage\n",
    "original_domain = \"http://tryaskedith.com\"\n",
    "target_domain = \"https://sellscale.com\"\n",
    "check_domain_forwarding(original_domain, target_domain)\n"
   ]
  }
 ],
 "metadata": {
  "kernelspec": {
   "display_name": "venv",
   "language": "python",
   "name": "python3"
  },
  "language_info": {
   "codemirror_mode": {
    "name": "ipython",
    "version": 3
   },
   "file_extension": ".py",
   "mimetype": "text/x-python",
   "name": "python",
   "nbconvert_exporter": "python",
   "pygments_lexer": "ipython3",
   "version": "3.9.6"
  },
  "orig_nbformat": 4
 },
 "nbformat": 4,
 "nbformat_minor": 2
}
