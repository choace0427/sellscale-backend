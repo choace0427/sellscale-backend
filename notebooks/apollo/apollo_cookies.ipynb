{
 "cells": [
  {
   "cell_type": "code",
   "execution_count": null,
   "metadata": {},
   "outputs": [],
   "source": [
    "import requests\n",
    "\n",
    "from bs4 import BeautifulSoup\n",
    "\n",
    "login_url=\"https://app.apollo.io/#/login\"\n"
   ]
  },
  {
   "cell_type": "code",
   "execution_count": null,
   "metadata": {},
   "outputs": [],
   "source": [
    "session = requests.Session()\n",
    "\n",
    "# Get the CSRF token from the login page\n",
    "response = session.get(login_url)\n",
    "soup = BeautifulSoup(response.text, \"html.parser\")\n",
    "\n",
    "cookies = session.cookies.get_dict()\n",
    "\n",
    "result = requests.post(\n",
    "    url=\"https://app.apollo.io/api/v1/auth/login\",\n",
    "    headers={\n",
    "        \"Content-Type\": \"application/json\",\n",
    "        \"X-Csrf-Token\": \"KW27EfLS4wg8dotGImvcfM5K0hg4zsaoIVjW38LGmGV1pSi6iM0c8La4xX2dTjUWmSUG6bLLU_wdHoyZ5Lyz7g\",\n",
    "        \"Cookie\": \"GCLB=CN-RutzGgres9wEQAw; _ga_76XXTC73SP=GS1.1.1718044603.1.0.1718044607.56.0.1427740135; _clck=6tthwj%7C2%7Cfmi%7C0%7C1622; _clsk=1b8raah%7C1718044609296%7C1%7C1%7Cw.clarity.ms%2Fcollect; __hssc=21978340.2.1718044603602; _cioanonid=4033a217-9e15-8d6b-a5ec-f14b0adfe41b; ZP_Pricing_Split_Test_Variant=23Q4_EC_Z59; X-CSRF-TOKEN=KW27EfLS4wg8dotGImvcfM5K0hg4zsaoIVjW38LGmGV1pSi6iM0c8La4xX2dTjUWmSUG6bLLU_wdHoyZ5Lyz7g; _leadgenie_session=gd%2Fo2YVFwOW28i96%2FDGC0oSw3j53bz%2B%2BgQkcsBj1f3RIfm%2BLbI0RZU9WU1NH%2FSqAQTaaEnEm3%2FmFVPHIAXD1yKjemC8iX5TCvU2SMamkH9QHPqHZs1%2BfdCjqDt2mmuD2absj%2B3u4rjf99phcyj6kcwWtY7EPFnwT%2B%2Br93NczfOFD6P3h0Fl4a6zUG6A7sbLKbUD%2Bi3kgRCTPqX9MYB4s9KM9XEM46cKybMC9pnLZdVFFVT5hV6%2BMgsbJAibb3R%2BGO7%2FFXwJ4GSs%2BVMsJbtMPO5%2BPB3gvuxmZm1w%3D--Pg8SJ6O4k0wRMGK%2B--CiJlaNx%2BFknltND%2BTY3x%2Fg%3D%3D; _dd_s=rum=0&expire=1718045583144; amplitude_id_122a93c7d9753d2fe678deffe8fac4cfapollo.io=eyJkZXZpY2VJZCI6ImRjYzM4Yjg5LTUwM2MtNDIxMC1hZWQ4LTNmNzFiZWNmYTkwMFIiLCJ1c2VySWQiOm51bGwsIm9wdE91dCI6ZmFsc2UsInNlc3Npb25JZCI6MTcxODA0NDYwMjk0OSwibGFzdEV2ZW50VGltZSI6MTcxODA0NDY4MzE0NiwiZXZlbnRJZCI6MSwiaWRlbnRpZnlJZCI6MSwic2VxdWVuY2VOdW1iZXIiOjJ9\",\n",
    "    },\n",
    "    params={\n",
    "        \"email\": \"aakash@sellscale.com\",\n",
    "        \"password\": \"MPF3caj6cyq-ajt*zun\",\n",
    "        \"timezone_offset\": 420\n",
    "    }\n",
    ")\n",
    "\n",
    "print(result.text)"
   ]
  },
  {
   "cell_type": "code",
   "execution_count": null,
   "metadata": {},
   "outputs": [],
   "source": [
    "def construct_cookie(cookies: dict) -> str:\n",
    "    "
   ]
  },
  {
   "cell_type": "code",
   "execution_count": null,
   "metadata": {},
   "outputs": [],
   "source": [
    "from selenium import webdriver\n",
    "from selenium.webdriver.common.by import By\n",
    "from selenium.webdriver.common.keys import Keys\n",
    "import time\n",
    "\n",
    "login_url = \"https://app.apollo.io/#/login\""
   ]
  },
  {
   "cell_type": "code",
   "execution_count": null,
   "metadata": {},
   "outputs": [],
   "source": [
    "# Initialize the WebDriver (e.g., using Chrome)\n",
    "driver = webdriver.Chrome()\n",
    "\n",
    "# Step 1: Visit the login page\n",
    "driver.get(login_url)\n",
    "time.sleep(3)  # Wait for the page to load and any JavaScript to execute\n",
    "\n",
    "# Step 2: Get the cookies\n",
    "cookies = driver.get_cookies()\n",
    "cookies_dict = {cookie['name']: cookie['value'] for cookie in cookies}\n",
    "print(\"Cookies:\", cookies_dict)"
   ]
  }
 ],
 "metadata": {
  "kernelspec": {
   "display_name": "venv",
   "language": "python",
   "name": "python3"
  },
  "language_info": {
   "codemirror_mode": {
    "name": "ipython",
    "version": 3
   },
   "file_extension": ".py",
   "mimetype": "text/x-python",
   "name": "python",
   "nbconvert_exporter": "python",
   "pygments_lexer": "ipython3",
   "version": "3.9.6"
  }
 },
 "nbformat": 4,
 "nbformat_minor": 2
}
