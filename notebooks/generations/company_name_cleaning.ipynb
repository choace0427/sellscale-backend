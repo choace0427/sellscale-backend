{
 "cells": [
  {
   "cell_type": "code",
   "execution_count": 12,
   "metadata": {},
   "outputs": [],
   "source": [
    "from cleanco import basename"
   ]
  },
  {
   "cell_type": "code",
   "execution_count": 82,
   "metadata": {},
   "outputs": [],
   "source": [
    "def clean_company_name(name: str) -> str:\n",
    "    \"\"\" Cleans the company name to only use the basename. Refer to the tests for a comprehensive view.\n",
    "\n",
    "    Uses cleanco.basename python package for help removing words such as \"Inc.\" or \"LLC.\"\n",
    "\n",
    "    Uses custom heuristic to clean up other issues:\n",
    "    - Removes the last open and close parentheses substring. \"Curative (acq. Doximity)\" -> \"Curative\"\n",
    "    - Removes any symbols which may be delimiting. \"Sattelite Healthcare / Wellbound\" -> \"Sattelite Healthcare\"\n",
    "\n",
    "    delimiting_symbols = ['/', '-', '|']\n",
    "\n",
    "    Args:\n",
    "        name (str): The company name to clean.\n",
    "\n",
    "    Returns:\n",
    "        str: The cleaned company name.\n",
    "    \"\"\"\n",
    "    delimiting_symbols = ['/', '-', '|']\n",
    "\n",
    "    name = basename(name).strip() # Quirk of basename function is it will remove a trailing ')'\n",
    "\n",
    "    last_index = len(name) - 1\n",
    "    for index in range(last_index, 0, -1):\n",
    "        if name[index] == '(':\n",
    "            close_parentheses_index = name.rfind(')')\n",
    "            if close_parentheses_index == -1:\n",
    "                name = name[:index]\n",
    "                break\n",
    "            else:\n",
    "                name = name[index] + name[close_parentheses_index + 1:]\n",
    "                break\n",
    "        elif name[index] in delimiting_symbols:\n",
    "            if name[index - 1] == ' ':\n",
    "                name = name[:index]\n",
    "\n",
    "    name = basename(name).strip() # One last time for good measure\n",
    "\n",
    "    return name.strip()"
   ]
  },
  {
   "cell_type": "code",
   "execution_count": 83,
   "metadata": {},
   "outputs": [
    {
     "name": "stdout",
     "output_type": "stream",
     "text": [
      "['A & A Auto Parts', 'A & A Auto Parts', 'A & A Auto Parts', 'A & A Auto Parts', 'A & A Auto Parts', 'A & A Auto Parts', 'A & A Auto Parts', 'Satellite Healthcare', 'Curative', 'Sun OS', 'Mi-One Brands', 'Mark-Taylor', 'Mark-Tayler']\n"
     ]
    }
   ],
   "source": [
    "company_names = [\n",
    "    'A & A Auto Parts',\n",
    "    'A & A Auto Parts Inc',\n",
    "    'A & A Auto Parts Inc.',\n",
    "    'A & A Auto Parts, Inc.',\n",
    "    'A & A Auto Parts, Inc',\n",
    "    'A & A Auto Parts, Inc.',\n",
    "    'A & A Auto Parts, Inc. ',\n",
    "    'Satellite Healthcare / WellBound',\n",
    "    'Curative (acq. Doximity)',\n",
    "    'Sun OS (prev. Sunshine)',\n",
    "    'Mi-One Brands (Mi-Pod / VaporLax)',\n",
    "    'Mark-Taylor, Inc.',\n",
    "    'Mark-Tayler, Inc. (acq. American Residential Communities)',\n",
    "]\n",
    "\n",
    "returned = [clean_company_name(name) for name in company_names]\n",
    "print(returned)"
   ]
  }
 ],
 "metadata": {
  "kernelspec": {
   "display_name": "Python 3.9.6 ('venv': venv)",
   "language": "python",
   "name": "python3"
  },
  "language_info": {
   "codemirror_mode": {
    "name": "ipython",
    "version": 3
   },
   "file_extension": ".py",
   "mimetype": "text/x-python",
   "name": "python",
   "nbconvert_exporter": "python",
   "pygments_lexer": "ipython3",
   "version": "3.9.6"
  },
  "orig_nbformat": 4,
  "vscode": {
   "interpreter": {
    "hash": "60a39ed7d9ed506b3549da2e10402e1e4204e8b41b0e183e3e35940f3cb41bf2"
   }
  }
 },
 "nbformat": 4,
 "nbformat_minor": 2
}
