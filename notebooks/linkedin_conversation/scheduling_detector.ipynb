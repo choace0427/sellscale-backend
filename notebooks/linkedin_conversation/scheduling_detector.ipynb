{
 "cells": [
  {
   "cell_type": "code",
   "execution_count": 2,
   "metadata": {},
   "outputs": [
    {
     "name": "stdout",
     "output_type": "stream",
     "text": [
      "/Users/davidwei/Documents/SellScale/sellscale-api/notebooks/linkedin_conversation\n"
     ]
    }
   ],
   "source": [
    "from dotenv import load_dotenv\n",
    "from pathlib import Path\n",
    "import os\n",
    "import sys\n",
    "import json\n",
    "import requests\n",
    "import openai\n",
    "\n",
    "env_path = Path('../..') / '.env'\n",
    "load_dotenv(dotenv_path=env_path)\n",
    "\n",
    "print(os.getcwd())\n",
    "sys.path.append('')\n",
    "\n",
    "OPENAI_API_KEY = os.environ.get('OPENAI_API_KEY')\n",
    "openai.api_key = OPENAI_API_KEY\n",
    "        "
   ]
  },
  {
   "cell_type": "code",
   "execution_count": 18,
   "metadata": {},
   "outputs": [],
   "source": [
    "def detect_scheduling(conversation_history: list[str]) -> bool:\n",
    "    \"\"\"\n",
    "    Detects if a conversation is about scheduling a call.\n",
    "    \"\"\"\n",
    "    prompt_template = \"conversation thread:\\n\"\n",
    "    for message in conversation_history:\n",
    "        prompt_template += f\"{message}\\n\"\n",
    "\n",
    "    prompt = \"Is the person trying to schedule a time to meet with me? Answer with 'Yes' or 'No'.\"\n",
    "\n",
    "    full_prompt = prompt_template + \"\\n\\n\" + prompt + \"\\n\\ncompletion:\"\n",
    "\n",
    "    response = openai.Completion.create(\n",
    "        model=\"text-davinci-003\",\n",
    "        prompt=full_prompt,\n",
    "        max_tokens=5,\n",
    "        temperature=0,\n",
    "    )\n",
    "\n",
    "    if response is None or response[\"choices\"] is None or len(response[\"choices\"]) == 0:\n",
    "        return []\n",
    "\n",
    "    choices = response[\"choices\"]\n",
    "    top_choice = choices[0]\n",
    "    text: str = top_choice[\"text\"].lower().strip()\n",
    "\n",
    "    return True if text == \"yes\" else False\n"
   ]
  },
  {
   "cell_type": "code",
   "execution_count": 19,
   "metadata": {},
   "outputs": [
    {
     "name": "stdout",
     "output_type": "stream",
     "text": [
      "True\n",
      "False\n"
     ]
    }
   ],
   "source": [
    "conversation_history = [\n",
    "    \"me: Hi Jim, I'm a software engineer at SellScale. I'm reaching out to you because I saw that you're a software engineer at Google. I'm looking to connect with other software engineers to learn more about the industry. Would you be open to a quick 15 minute call to learn more about your experience at Google?\",\n",
    "    \"me: Just wanted to follow up on my previous message. Would you be open to a quick 15 minute call to learn more about your experience at Google?\",\n",
    "    \"me: I don't want to take up too much of your time, but I'm curious to learn more about your experience at Google. Would you be open to a quick 15 minute call?\",\n",
    "    \"them: Sure, I'd be happy to chat. What's your availability like?\",\n",
    "]\n",
    "print(detect_scheduling(conversation_history))\n",
    "\n",
    "conversation_no_scheduling = [\n",
    "    \"me: Hi Jeremey, I'm a software engineer at SellScale. I'm reaching out to you because I saw that you're a software engineer at Google. I'm looking to connect with other software engineers to learn more about the industry. Would you be open to a quick 15 minute call to learn more about your experience at Google?\",\n",
    "    \"me: Just wanted to follow up on my previous message. Would you be open to a quick 15 minute call to learn more about your experience at Google?\",\n",
    "    \"me: I don't want to take up too much of your time, but I'm curious to learn more about your experience at Google. Would you be open to a quick 15 minute call?\",\n",
    "    \"them: Sorry I'm too busy, circle back in a few months.\"\n",
    "]\n",
    "print(detect_scheduling(conversation_no_scheduling))"
   ]
  },
  {
   "cell_type": "code",
   "execution_count": null,
   "metadata": {},
   "outputs": [],
   "source": []
  }
 ],
 "metadata": {
  "kernelspec": {
   "display_name": "venv",
   "language": "python",
   "name": "python3"
  },
  "language_info": {
   "codemirror_mode": {
    "name": "ipython",
    "version": 3
   },
   "file_extension": ".py",
   "mimetype": "text/x-python",
   "name": "python",
   "nbconvert_exporter": "python",
   "pygments_lexer": "ipython3",
   "version": "3.9.6"
  },
  "orig_nbformat": 4,
  "vscode": {
   "interpreter": {
    "hash": "60a39ed7d9ed506b3549da2e10402e1e4204e8b41b0e183e3e35940f3cb41bf2"
   }
  }
 },
 "nbformat": 4,
 "nbformat_minor": 2
}
