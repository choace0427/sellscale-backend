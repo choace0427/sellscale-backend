{
 "cells": [
  {
   "cell_type": "code",
   "execution_count": 144,
   "metadata": {},
   "outputs": [
    {
     "ename": "ModuleNotFoundError",
     "evalue": "No module named 'src'",
     "output_type": "error",
     "traceback": [
      "\u001b[0;31m---------------------------------------------------------------------------\u001b[0m",
      "\u001b[0;31mModuleNotFoundError\u001b[0m                       Traceback (most recent call last)",
      "\u001b[0;32m/var/folders/gq/q6vwgcys2k54w_611fy1fqdm0000gn/T/ipykernel_66370/1445994664.py\u001b[0m in \u001b[0;36m<cell line: 4>\u001b[0;34m()\u001b[0m\n\u001b[1;32m      2\u001b[0m \u001b[0mVESSEL_DEVELOPMENT_API_KEY\u001b[0m \u001b[0;34m=\u001b[0m \u001b[0;34m'2c9ee912-066c-4348-80f6-6e5e26333403'\u001b[0m\u001b[0;34m\u001b[0m\u001b[0;34m\u001b[0m\u001b[0m\n\u001b[1;32m      3\u001b[0m \u001b[0;34m\u001b[0m\u001b[0m\n\u001b[0;32m----> 4\u001b[0;31m \u001b[0;32mfrom\u001b[0m \u001b[0msrc\u001b[0m\u001b[0;34m.\u001b[0m\u001b[0mintegrations\u001b[0m\u001b[0;34m.\u001b[0m\u001b[0mvessel\u001b[0m \u001b[0;32mimport\u001b[0m \u001b[0mSalesEngagementIntegration\u001b[0m\u001b[0;34m\u001b[0m\u001b[0;34m\u001b[0m\u001b[0m\n\u001b[0m",
      "\u001b[0;31mModuleNotFoundError\u001b[0m: No module named 'src'"
     ]
    }
   ],
   "source": [
    "ACCESS_TOKEN = ''\n",
    "VESSEL_DEVELOPMENT_API_KEY = ''\n"
   ]
  },
  {
   "cell_type": "code",
   "execution_count": 139,
   "metadata": {},
   "outputs": [],
   "source": [
    "import requests \n",
    "\n",
    "class SalesEngagementIntegration:\n",
    "    \"\"\"\n",
    "    This class is used to interact with the Vessel Sales Engagement API\n",
    "    \"\"\"\n",
    "    def __init__(self, vessel_api_key, vessel_access_token):\n",
    "        self.vessel_api_key = vessel_api_key\n",
    "        self.vessel_access_token = vessel_access_token\n",
    "        self.vessel_api_url = 'https://api.vessel.land/'\n",
    "        self.headers = {\n",
    "            'vessel-api-token': self.vessel_api_key,\n",
    "            'x-access-token': self.vessel_access_token\n",
    "        }\n",
    "\n",
    "    def get_user_by_email(self, email):\n",
    "        \"\"\"\n",
    "        Get a Sales Engagement user by email\n",
    "        \"\"\"\n",
    "        nextPageCursor = 1\n",
    "        while nextPageCursor:\n",
    "            url = f'{self.vessel_api_url}/engagement/users?accessToken={self.vessel_access_token}&cursor={nextPageCursor}&limit=100'\n",
    "            response = requests.get(url, headers=self.headers)\n",
    "            nextPageCursor = response.json()['nextPageCursor']\n",
    "            for user in response.json()['users']:\n",
    "                if user['email'] == email:\n",
    "                    return user\n",
    "        return None\n",
    "    \n",
    "    def create_contact(self, first_name, last_name, job_title, emails, additional={}):\n",
    "        \"\"\"\n",
    "        Create a Sales Engagement contact\n",
    "        \"\"\"\n",
    "        url = f'{self.vessel_api_url}/engagement/contact'\n",
    "        response = requests.post(url, headers=self.headers, json={\n",
    "            'contact': {\n",
    "                'firstName': first_name,\n",
    "                'lastName': last_name,\n",
    "                'jobTitle': job_title,\n",
    "                'emails': [{\n",
    "                    \"address\": email,\n",
    "                } for email in emails],\n",
    "                'additional': additional,\n",
    "            },\n",
    "            'accessToken': self.vessel_access_token\n",
    "        })\n",
    "        return response.json()\n",
    "\n",
    "    def search_contact_by_email(self, email):\n",
    "        \"\"\"\n",
    "        Search for a Sales Engagement contact by email\n",
    "        \"\"\"\n",
    "        url = f'{self.vessel_api_url}/engagement/contacts/search'\n",
    "        response = requests.post(url, headers=self.headers, json={\n",
    "            'accessToken': self.vessel_access_token,\n",
    "            'filters': {\n",
    "                'emails': {\n",
    "                    'address': {\n",
    "                        'equals': email\n",
    "                    }\n",
    "                }\n",
    "            }\n",
    "        })\n",
    "        resp = response.json()\n",
    "        if len(resp['contacts']) == 0:\n",
    "            return None\n",
    "        return resp['contacts'][0]\n",
    "\n",
    "    def update_sellscale_personalization(self, contact_id, personalization):\n",
    "        \"\"\"\n",
    "        Update the SellScale_Personalization field for a contact\n",
    "        \"\"\"\n",
    "        # todo(Aakash) investigate why this isn't working\n",
    "        url = f'{self.vessel_api_url}/engagement/contact'\n",
    "        response = requests.patch(url, headers=self.headers, json={\n",
    "            'accessToken': self.vessel_access_token,\n",
    "            'id': contact_id,\n",
    "            'contact': {\n",
    "                'additional': {\n",
    "                    'SellScale_Personalization': personalization\n",
    "                }\n",
    "            },\n",
    "        })\n",
    "        return response.json()\n",
    "            \n",
    "\n",
    "    def find_mailbox_by_email(self, email):\n",
    "        \"\"\"\n",
    "        Find a Sales Engagement mailbox by email\n",
    "        \"\"\"\n",
    "        url = f'{self.vessel_api_url}/engagement/mailboxes'\n",
    "        nextPageCursor = 1\n",
    "        while nextPageCursor:\n",
    "            response = requests.get(url, headers=self.headers, params={\n",
    "                'accessToken': self.vessel_access_token,\n",
    "                'limit': 100,\n",
    "                'cursor': nextPageCursor\n",
    "            })\n",
    "            nextPageCursor = response.json()['nextPageCursor']\n",
    "            for mailbox in response.json()['mailboxes']:\n",
    "                if mailbox['email'] == email:\n",
    "                    return mailbox\n",
    "\n",
    "    def search_sequences_by_name(self, name):\n",
    "        \"\"\"\n",
    "        Search for a Sales Engagement sequence by name\n",
    "        \"\"\"\n",
    "        nextPageCursor = 1\n",
    "        url = f'{self.vessel_api_url}/engagement/sequences'\n",
    "        sequences = []\n",
    "        while nextPageCursor:\n",
    "            response = requests.get(url, headers=self.headers, params={\n",
    "                'accessToken': self.vessel_access_token,\n",
    "                'limit': 100,\n",
    "                'cursor': nextPageCursor\n",
    "            })\n",
    "            nextPageCursor = response.json()['nextPageCursor']\n",
    "            for sequence in response.json()['sequences']:\n",
    "                if name.lower() in sequence['name'].lower():\n",
    "                    sequences.append(sequence)\n",
    "        return sequences\n",
    "\n",
    "    def add_contact_to_sequence(self, mailbox_id, sequence_id, contact_id):\n",
    "        \"\"\"\n",
    "        Add a contact to a Sales Engagement sequence\n",
    "        \"\"\"\n",
    "        url = f'{self.vessel_api_url}/engagement/sequence/start'\n",
    "        response = requests.post(url, headers=self.headers, json={\n",
    "            'accessToken': self.vessel_access_token,\n",
    "            'id': sequence_id,\n",
    "            'fields':{\n",
    "                'mailboxId': mailbox_id,\n",
    "                'contactId': contact_id\n",
    "            }\n",
    "        })\n",
    "        print(response)\n",
    "        return response.json()\n",
    "\n",
    "\n"
   ]
  },
  {
   "cell_type": "code",
   "execution_count": 140,
   "metadata": {},
   "outputs": [],
   "source": [
    "sei = SalesEngagementIntegration(VESSEL_DEVELOPMENT_API_KEY, ACCESS_TOKEN)\n",
    "# sei.get_user_by_email('marketing@curativetalent.com')\n",
    "# sei.create_contact(first_name='Aakash', last_name='Adesara', job_title='CTO at SellScale', emails=['aakash@sellscale.com'], additional={'SellScale_Personalization': 'testing personalization'})\n",
    "# contact = sei.search_contact_by_email('aakash@sellscale.com')\n",
    "# contact_id = contact['id']\n",
    "# sei.update_sellscale_personalization(contact_id, 'testing personalization')\n",
    "\n",
    "# mailbox = sei.find_mailbox_by_email('bgonzalez@curativetalent.com')\n",
    "# mailbox_id = mailbox['id']\n",
    "\n",
    "# sequences = sei.search_sequences_by_name('Bryson OG-Recruiters in IA | SellScale Pilot')"
   ]
  },
  {
   "cell_type": "code",
   "execution_count": 122,
   "metadata": {},
   "outputs": [],
   "source": [
    "sequence_id = sequences[0]['id']\n",
    "contact_id = contact['id']\n",
    "mailbox_id = mailbox['id']"
   ]
  },
  {
   "cell_type": "code",
   "execution_count": 138,
   "metadata": {},
   "outputs": [
    {
     "name": "stdout",
     "output_type": "stream",
     "text": [
      "sequence_id=  2999800\n",
      "contact_id=  532716790\n",
      "mailbox_id=  188271\n"
     ]
    }
   ],
   "source": [
    "print('sequence_id= ', sequence_id)\n",
    "print('contact_id= ', contact_id)\n",
    "print('mailbox_id= ', mailbox_id)"
   ]
  },
  {
   "cell_type": "code",
   "execution_count": 143,
   "metadata": {},
   "outputs": [
    {
     "name": "stdout",
     "output_type": "stream",
     "text": [
      "<Response [400]>\n"
     ]
    },
    {
     "data": {
      "text/plain": [
       "{'message': 'Error from 3rd party integration',\n",
       " 'metadata': {'originalError': {'errors': {'cadence_id': ['is already in progress for this person']}},\n",
       "  'originalStatus': 422}}"
      ]
     },
     "execution_count": 143,
     "metadata": {},
     "output_type": "execute_result"
    }
   ],
   "source": [
    "sei.add_contact_to_sequence(mailbox_id, sequence_id, contact_id)"
   ]
  },
  {
   "cell_type": "code",
   "execution_count": null,
   "metadata": {},
   "outputs": [],
   "source": []
  },
  {
   "cell_type": "code",
   "execution_count": null,
   "metadata": {},
   "outputs": [],
   "source": []
  }
 ],
 "metadata": {
  "kernelspec": {
   "display_name": "venv",
   "language": "python",
   "name": "python3"
  },
  "language_info": {
   "codemirror_mode": {
    "name": "ipython",
    "version": 3
   },
   "file_extension": ".py",
   "mimetype": "text/x-python",
   "name": "python",
   "nbconvert_exporter": "python",
   "pygments_lexer": "ipython3",
   "version": "3.10.6"
  },
  "orig_nbformat": 4,
  "vscode": {
   "interpreter": {
    "hash": "418ea564f2e9e0ff6601ae0a320aba95f2853f17ea95a35e68eefbd91e5a001e"
   }
  }
 },
 "nbformat": 4,
 "nbformat_minor": 2
}
