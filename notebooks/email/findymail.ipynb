{
 "cells": [
  {
   "cell_type": "code",
   "execution_count": 2,
   "metadata": {},
   "outputs": [],
   "source": [
    "# API Docs: https://app.findymail.com/docs/\n",
    "\n",
    "from dotenv import load_dotenv\n",
    "from pathlib import Path\n",
    "import os\n",
    "import sys\n",
    "import requests\n",
    "\n",
    "env_path = Path('../..') / '.production.env'\n",
    "load_dotenv(dotenv_path=env_path)\n",
    "\n",
    "sys.path.append('/Users/davidwei/Documents/SellScale/sellscale-api/notebooks/email/')\n",
    "\n",
    "FINDYMAIL_API_KEY = os.getenv(\"FINDYMAIL_API_KEY\")"
   ]
  },
  {
   "cell_type": "code",
   "execution_count": 3,
   "metadata": {},
   "outputs": [
    {
     "data": {
      "text/plain": [
       "{'contact': {'id': 622734662,\n",
       "  'name': 'David Wei',\n",
       "  'email': 'david@sellscale.com',\n",
       "  'domain': 'sellscale.com',\n",
       "  'company': '',\n",
       "  'linkedin_url': None,\n",
       "  'job_title': '',\n",
       "  'company_city': '',\n",
       "  'company_region': '',\n",
       "  'company_country': ''}}"
      ]
     },
     "execution_count": 3,
     "metadata": {},
     "output_type": "execute_result"
    }
   ],
   "source": [
    "class FindyMail:\n",
    "    def __init__(self):\n",
    "        self.api_key = FINDYMAIL_API_KEY\n",
    "\n",
    "    def find_from_name_and_company(self, name: str, company: str) -> list:\n",
    "        url = \"https://app.findymail.com/api/search/name\"\n",
    "        headers = {\n",
    "            \"Authorization\": f\"Bearer {self.api_key}\",\n",
    "            \"Content-Type\": \"application/json\",\n",
    "            \"Accept\": \"application/json\"\n",
    "        }\n",
    "        params = {\"name\": name, \"domain\": company}\n",
    "        response = requests.post(url, headers=headers, params=params)\n",
    "        return response.json()\n",
    "    \n",
    "fm = FindyMail()\n",
    "fm.find_from_name_and_company(\"David Wei\", \"sellscale.com\")"
   ]
  }
 ],
 "metadata": {
  "kernelspec": {
   "display_name": "venv",
   "language": "python",
   "name": "python3"
  },
  "language_info": {
   "codemirror_mode": {
    "name": "ipython",
    "version": 3
   },
   "file_extension": ".py",
   "mimetype": "text/x-python",
   "name": "python",
   "nbconvert_exporter": "python",
   "pygments_lexer": "ipython3",
   "version": "3.9.6"
  },
  "orig_nbformat": 4
 },
 "nbformat": 4,
 "nbformat_minor": 2
}
