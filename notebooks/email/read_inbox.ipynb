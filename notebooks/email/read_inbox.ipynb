{
 "cells": [
  {
   "cell_type": "code",
   "execution_count": 16,
   "metadata": {},
   "outputs": [],
   "source": [
    "from nylas import APIClient"
   ]
  },
  {
   "cell_type": "code",
   "execution_count": 23,
   "metadata": {},
   "outputs": [],
   "source": [
    "text_account_1 = 'ask david'\n",
    "david_sellscale = 'ask david'\n",
    "\n",
    "NYLAS_CLIENT_ID='81yq9ix7aruri0r6129kjh8jf'\n",
    "NYLAS_CLIENT_SECRET='6mta7islswckvmnxkaxyuybzx'\n",
    "NYLAS_ACCESS_TOKEN='ask david'\n",
    "\n",
    "nylas = APIClient(\n",
    "    NYLAS_CLIENT_ID,\n",
    "    NYLAS_CLIENT_SECRET,\n",
    "    NYLAS_ACCESS_TOKEN\n",
    ")\n"
   ]
  },
  {
   "cell_type": "code",
   "execution_count": 24,
   "metadata": {},
   "outputs": [
    {
     "name": "stdout",
     "output_type": "stream",
     "text": [
      "Subject: It's here – meet the all-new Loom Chrome extension | ID: 3s6nx6xh3q776bovvecqkma0l | Unread: True\n"
     ]
    }
   ],
   "source": [
    "message = nylas.messages.where(in_='inbox').first()\n",
    "print(\"Subject: {} | ID: {} | Unread: {}\".format(\n",
    "    message.subject, message.id, message.unread))"
   ]
  },
  {
   "cell_type": "code",
   "execution_count": 27,
   "metadata": {},
   "outputs": [
    {
     "name": "stdout",
     "output_type": "stream",
     "text": [
      "Invitation: WORK IN PERSON: WeWork 650 California, SF @ Fri Mar 31, 2023 10:30am - 11am (PDT) (david@sellscale.com)\n",
      "Quick note - nice shipping! Keep going\n",
      "Clinical Search: Meeting Follow-Up\n",
      "Re: Fwd: [PhantomBuster] Re: Unknown error when scraping inboxes\n",
      "Re: Getting Setup on SellScale for Q1 - Welcome Team!\n",
      "Updated invitation with note: 💪 Quarter 2 KickOff: @ Fri Mar 31, 2023 3pm - 4pm (PDT) (david@sellscale.com)\n"
     ]
    }
   ],
   "source": [
    "messages = nylas.messages.search(\"from:ishan@sellscale.com\")\n",
    "for message in messages:\n",
    "    print(message.subject)"
   ]
  },
  {
   "cell_type": "code",
   "execution_count": 44,
   "metadata": {},
   "outputs": [
    {
     "name": "stdout",
     "output_type": "stream",
     "text": [
      "auh2mhmyiau6zzv20ms21xid5\n",
      "<html xmlns=\"http://www.w3.org/1999/xhtml\">\n",
      "<head>\n",
      "<title></title>\n",
      "</head>\n",
      "<body>\n",
      "<div name=\"messageBodySection\">\n",
      "<div dir=\"auto\">Testing threads</div>\n",
      "</div>\n",
      "<div name=\"messageSignatureSection\"><br />\n",
      "<font color=\"#10B981\"><b><span style=\"font-size: 16px;\"><span style=\"font-family: Helvetica , Arial , sans-serif;\">David Wei&#160;</span></span></b></font><span style=\"font-family: Helvetica , Arial , sans-serif;\"><span style=\"font-size: 16px;\"></span><font color=\"#555555\"><span style=\"font-size: 10px;\">| FOUNDING SOFTWARE ENGINEER</span></font><span style=\"font-size: 10px;\"></span></span><br />\n",
      "<a href=\"mailto:david@sellscale.com\"><font color=\"#555555\"><span style=\"font-size: 13px;\"><span style=\"font-family: Helvetica , Arial , sans-serif;\">david@sellscale.com</span></span></font></a><span style=\"font-family: Helvetica , Arial , sans-serif;\"><span style=\"font-size: 13px;\"><font color=\"#555555\"></font></span></span><br />\n",
      "<a href=\"https://www.sellscale.com/\"><font color=\"#10B981\"><span style=\"font-size: 12px;\"><span style=\"font-family: Helvetica , Arial , sans-serif;\">www.sellscale.com</span></span></font></a></div>\n",
      "<div name=\"messageReplySection\">On Mar 29, 2023 at 1:10 PM -0700, David Wei &lt;david@sellscale.com&gt;, wrote:<br />\n",
      "<blockquote type=\"cite\" style=\"border-left-color: grey; border-left-width: thin; border-left-style: solid; margin: 5px 5px;padding-left: 10px;\">This is a test email sent from the Nylas API. oogabooga</blockquote>\n",
      "</div>\n",
      "</body>\n",
      "</html>\n",
      "bu2s8ugbjchqsm3u672zuopfr\n",
      "This is a test email sent from the Nylas API. oogabooga\n"
     ]
    }
   ],
   "source": [
    "thread = nylas.threads.search(\"oogabooga\")\n",
    "thread_id = thread[0].id\n",
    "messages = nylas.messages.where(thread_id=thread_id).all()\n",
    "for message in messages:\n",
    "    print(message.id)\n",
    "    print(message.body)"
   ]
  },
  {
   "cell_type": "code",
   "execution_count": 28,
   "metadata": {},
   "outputs": [
    {
     "data": {
      "text/plain": [
       "{'account_id': 'e9rnxeyxk1kh84likzvx5htnm',\n",
       " 'bcc': [],\n",
       " 'body': 'This is a test email sent from the Nylas API. oogabooga',\n",
       " 'cc': [],\n",
       " 'date': 1680120617,\n",
       " 'events': [],\n",
       " 'files': [],\n",
       " 'from': [{'email': 'david@sellscale.com', 'name': 'David Wei'}],\n",
       " 'id': 'bu2s8ugbjchqsm3u672zuopfr',\n",
       " 'labels': [{'display_name': 'Sent Mail',\n",
       "   'id': '2yfei9e5cprqggwd9w23ddloe',\n",
       "   'name': 'sent'}],\n",
       " 'object': 'message',\n",
       " 'reply_to': [],\n",
       " 'reply_to_message_id': None,\n",
       " 'snippet': 'This is a test email sent from the Nylas API. oogabooga',\n",
       " 'starred': False,\n",
       " 'subject': 'Testing Nylas',\n",
       " 'thread_id': 'cbvzp1gbvgrkl113sux11svnk',\n",
       " 'to': [{'email': 'aakash@sellscale.com', 'name': 'Aakash Adesara'}],\n",
       " 'unread': False}"
      ]
     },
     "execution_count": 28,
     "metadata": {},
     "output_type": "execute_result"
    }
   ],
   "source": [
    "draft = nylas.drafts.create()\n",
    "draft.subject = \"Testing Nylas\"\n",
    "draft.body = \"This is a test email sent from the Nylas API. oogabooga\"\n",
    "draft.to = [{\"name\": \"Aakash Adesara\", \"email\": \"aakash@sellscale.com\"}]\n",
    "\n",
    "draft.send()"
   ]
  }
 ],
 "metadata": {
  "kernelspec": {
   "display_name": "venv",
   "language": "python",
   "name": "python3"
  },
  "language_info": {
   "codemirror_mode": {
    "name": "ipython",
    "version": 3
   },
   "file_extension": ".py",
   "mimetype": "text/x-python",
   "name": "python",
   "nbconvert_exporter": "python",
   "pygments_lexer": "ipython3",
   "version": "3.9.6"
  },
  "orig_nbformat": 4,
  "vscode": {
   "interpreter": {
    "hash": "60a39ed7d9ed506b3549da2e10402e1e4204e8b41b0e183e3e35940f3cb41bf2"
   }
  }
 },
 "nbformat": 4,
 "nbformat_minor": 2
}
