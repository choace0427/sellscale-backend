{
 "cells": [
  {
   "cell_type": "code",
   "execution_count": null,
   "metadata": {},
   "outputs": [],
   "source": [
    "import requests\n",
    "\n",
    "pylon_api_key = \"grabfromOS\""
   ]
  },
  {
   "cell_type": "code",
   "execution_count": null,
   "metadata": {},
   "outputs": [],
   "source": [
    "def get_active_organization():\n",
    "    url = \"https://api.usepylon.com/me\"\n",
    "\n",
    "    headers = {\"Authorization\": f\"Bearer {pylon_api_key}\"}\n",
    "\n",
    "    response = requests.request(\"GET\", url, headers=headers)\n",
    "\n",
    "    print(response.text)\n",
    "\n",
    "get_active_organization()"
   ]
  },
  {
   "cell_type": "code",
   "execution_count": null,
   "metadata": {},
   "outputs": [],
   "source": [
    "from typing import TypedDict\n",
    "class AccountData(TypedDict):\n",
    "    id: str\n",
    "    name: str\n",
    "    owner: dict\n",
    "    domain: str\n",
    "    type: str\n",
    "    created_at: str\n",
    "\n",
    "def get_accounts():\n",
    "    url = \"https://api.usepylon.com/accounts\"\n",
    "\n",
    "    headers = {\"Authorization\": f\"Bearer {pylon_api_key}\"}\n",
    "\n",
    "    response = requests.request(\"GET\", url, headers=headers)\n",
    "    response.raise_for_status()\n",
    "\n",
    "    accounts: list[AccountData] = response.json().get(\"data\")\n",
    "\n",
    "    for account in accounts:\n",
    "        print(account.get(\"domain\"))\n",
    "\n",
    "    return accounts\n",
    "\n",
    "\n",
    "get_accounts()"
   ]
  },
  {
   "cell_type": "code",
   "execution_count": null,
   "metadata": {},
   "outputs": [],
   "source": [
    "def get_users():\n",
    "    url = \"https://api.usepylon.com/users\"\n",
    "\n",
    "    headers = {\"Authorization\": f\"Bearer {pylon_api_key}\"}\n",
    "\n",
    "    response = requests.request(\"GET\", url, headers=headers)\n",
    "\n",
    "    print(response.text)\n",
    "\n",
    "get_users()"
   ]
  },
  {
   "cell_type": "code",
   "execution_count": null,
   "metadata": {},
   "outputs": [],
   "source": [
    "def create_issue():\n",
    "    url = \"https://api.usepylon.com/issues\"\n",
    "\n",
    "    account_id=\"96534a8a-66c0-4c68-9ac5-652cd011751e\"\n",
    "\n",
    "    payload = {\n",
    "        \"account_id\": account_id,\n",
    "        \"requester_email\": \"david@sellscale.com\",\n",
    "        \"requester_name\": \"David Wei\",\n",
    "        \"title\": \"Test Issue\",\n",
    "        \"body_html\": \"This is a test issue\",\n",
    "    }\n",
    "    headers = {\n",
    "        \"Authorization\": f\"Bearer {pylon_api_key}\",\n",
    "        \"Content-Type\": \"application/json\"\n",
    "    }\n",
    "\n",
    "    response = requests.request(\"POST\", url, json=payload, headers=headers)\n",
    "\n",
    "    print(response.text)\n",
    "\n",
    "create_issue()"
   ]
  }
 ],
 "metadata": {
  "kernelspec": {
   "display_name": "venv",
   "language": "python",
   "name": "python3"
  },
  "language_info": {
   "codemirror_mode": {
    "name": "ipython",
    "version": 3
   },
   "file_extension": ".py",
   "mimetype": "text/x-python",
   "name": "python",
   "nbconvert_exporter": "python",
   "pygments_lexer": "ipython3",
   "version": "3.9.6"
  }
 },
 "nbformat": 4,
 "nbformat_minor": 2
}
