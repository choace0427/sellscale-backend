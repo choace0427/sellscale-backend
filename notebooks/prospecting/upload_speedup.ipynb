{
 "cells": [
  {
   "cell_type": "code",
   "execution_count": 4,
   "metadata": {},
   "outputs": [],
   "source": [
    "import csv\n",
    "import json\n",
    "import os\n",
    "import requests\n",
    "from dotenv import load_dotenv\n",
    "from pathlib import Path\n",
    "import time\n",
    "\n",
    "env_path = Path('../..') / '.env'\n",
    "load_dotenv(dotenv_path=env_path)\n",
    "\n",
    "ISCRAPER_API_KEY = os.environ.get('ISCRAPER_API_KEY')\n",
    "PROFILE_DETAILS_URL = \"https://api.proapis.com/iscraper/v4/profile-details\"\n",
    "        \n",
    "        "
   ]
  },
  {
   "cell_type": "code",
   "execution_count": 5,
   "metadata": {},
   "outputs": [],
   "source": [
    "def call_iscraper(linkedin_id: str):\n",
    "    payload = json.dumps(\n",
    "        {\n",
    "            \"profile_id\": linkedin_id,\n",
    "            \"profile_type\": \"personal\",\n",
    "            \"network_info\": True,\n",
    "        }\n",
    "    )\n",
    "    headers = {\"X-API-KEY\": ISCRAPER_API_KEY, \"Content-Type\": \"application/json\"}\n",
    "\n",
    "    response = requests.request(\n",
    "        \"POST\", PROFILE_DETAILS_URL, headers=headers, data=payload\n",
    "    )\n",
    "    data = json.loads(response.text)\n",
    "\n",
    "    return data"
   ]
  },
  {
   "cell_type": "code",
   "execution_count": 8,
   "metadata": {},
   "outputs": [
    {
     "name": "stdout",
     "output_type": "stream",
     "text": [
      "hit\n",
      "hit\n",
      "hit\n",
      "hit\n",
      "hit\n",
      "hit\n",
      "hit\n",
      "hit\n",
      "hit\n",
      "14.891140699386597\n"
     ]
    }
   ],
   "source": [
    "def no_speedup():\n",
    "    st = time.time()\n",
    "\n",
    "    with open('speed_test.csv', 'r') as rf:\n",
    "        reader = csv.reader(rf, delimiter=',')\n",
    "        column_names = next(reader)\n",
    "        for row in reader:\n",
    "            linkedin_url = row[0]\n",
    "            linkedin_id = linkedin_url.strip('/').split('/')[-1]\n",
    "            data = call_iscraper(linkedin_id)\n",
    "            print('hit')\n",
    "\n",
    "    end = time.time()\n",
    "    return end-st\n",
    "\n",
    "print(no_speedup())"
   ]
  },
  {
   "cell_type": "code",
   "execution_count": 11,
   "metadata": {},
   "outputs": [
    {
     "name": "stdout",
     "output_type": "stream",
     "text": [
      "hit\n",
      "hit\n",
      "hit\n",
      "hit\n",
      "hit\n",
      "hit\n",
      "hit\n",
      "hit\n",
      "hit\n",
      "14.122756242752075\n"
     ]
    }
   ],
   "source": [
    "import asyncio\n",
    "\n",
    "async def async_call_iscraper(linkedin_id: str):\n",
    "    payload = json.dumps(\n",
    "        {\n",
    "            \"profile_id\": linkedin_id,\n",
    "            \"profile_type\": \"personal\",\n",
    "            \"network_info\": True,\n",
    "        }\n",
    "    )\n",
    "    headers = {\"X-API-KEY\": ISCRAPER_API_KEY, \"Content-Type\": \"application/json\"}\n",
    "\n",
    "    response = requests.request(\n",
    "        \"POST\", PROFILE_DETAILS_URL, headers=headers, data=payload\n",
    "    )\n",
    "    data = json.loads(response.text)\n",
    "\n",
    "    return data\n",
    "\n",
    "def speedup():\n",
    "    st = time.time()\n",
    "\n",
    "    with open('speed_test.csv', 'r') as rf:\n",
    "        reader = csv.reader(rf, delimiter=',')\n",
    "        column_names = next(reader)\n",
    "        for row in reader:\n",
    "            linkedin_url = row[0]\n",
    "            linkedin_id = linkedin_url.strip('/').split('/')[-1]\n",
    "            data = await async_call_iscraper(linkedin_id)\n",
    "            print('hit')\n",
    "\n",
    "    end = time.time()\n",
    "    return end-st\n",
    "\n",
    "print(speedup())"
   ]
  }
 ],
 "metadata": {
  "kernelspec": {
   "display_name": "Python 3.9.6 ('venv': venv)",
   "language": "python",
   "name": "python3"
  },
  "language_info": {
   "codemirror_mode": {
    "name": "ipython",
    "version": 3
   },
   "file_extension": ".py",
   "mimetype": "text/x-python",
   "name": "python",
   "nbconvert_exporter": "python",
   "pygments_lexer": "ipython3",
   "version": "3.9.6"
  },
  "orig_nbformat": 4,
  "vscode": {
   "interpreter": {
    "hash": "60a39ed7d9ed506b3549da2e10402e1e4204e8b41b0e183e3e35940f3cb41bf2"
   }
  }
 },
 "nbformat": 4,
 "nbformat_minor": 2
}
