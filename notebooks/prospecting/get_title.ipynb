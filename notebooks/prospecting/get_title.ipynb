{
 "cells": [
  {
   "cell_type": "code",
   "execution_count": 5,
   "metadata": {},
   "outputs": [
    {
     "name": "stdout",
     "output_type": "stream",
     "text": [
      "/Users/davidwei/Documents/SellScale/sellscale-api/notebooks/prospecting\n"
     ]
    }
   ],
   "source": [
    "from dotenv import load_dotenv\n",
    "from pathlib import Path\n",
    "import os\n",
    "import sys\n",
    "import json\n",
    "import requests\n",
    "\n",
    "env_path = Path('../..') / '.env'\n",
    "load_dotenv(dotenv_path=env_path)\n",
    "\n",
    "print(os.getcwd())\n",
    "sys.path.append('Get from above^')\n",
    "from src.utils.abstract.attr_utils import deep_get\n",
    "\n",
    "ISCRAPER_API_KEY = os.environ.get('ISCRAPER_API_KEY')\n",
    "PROFILE_DETAILS_URL = \"https://api.iscraper.io/v2/profile-details\"\n",
    "        "
   ]
  },
  {
   "cell_type": "code",
   "execution_count": 6,
   "metadata": {},
   "outputs": [],
   "source": [
    "def call_iscraper(linkedin_id: str):\n",
    "    payload = json.dumps(\n",
    "        {\n",
    "            \"profile_id\": linkedin_id,\n",
    "            \"profile_type\": \"personal\",\n",
    "            \"network_info\": True,\n",
    "        }\n",
    "    )\n",
    "    headers = {\"X-API-KEY\": ISCRAPER_API_KEY, \"Content-Type\": \"application/json\"}\n",
    "\n",
    "    response = requests.request(\n",
    "        \"POST\", PROFILE_DETAILS_URL, headers=headers, data=payload\n",
    "    )\n",
    "    data = json.loads(response.text)\n",
    "\n",
    "    return data"
   ]
  },
  {
   "cell_type": "code",
   "execution_count": 12,
   "metadata": {},
   "outputs": [
    {
     "name": "stdout",
     "output_type": "stream",
     "text": [
      "Co-Founder & CTO @ SellScale\n",
      "Co-Founder & CTO\n",
      "Co-Founder & CTO\n"
     ]
    },
    {
     "name": "stderr",
     "output_type": "stream",
     "text": [
      "/Users/davidwei/Documents/SellScale/sellscale-api/venv/lib/python3.9/site-packages/apscheduler/util.py:436: PytzUsageWarning: The localize method is no longer necessary, as this time zone supports the fold attribute (PEP 495). For more details on migrating to a PEP 495-compliant implementation, see https://pytz-deprecation-shim.readthedocs.io/en/latest/migration.html\n",
      "  return tzinfo.localize(dt)\n",
      "Job \"run_next_client_sdr_li_conversation_scraper_job (trigger: cron[hour='*', minute='*/10'], next run at: 2023-01-27 11:20:00 PST)\" raised an exception\n",
      "Traceback (most recent call last):\n",
      "  File \"/Users/davidwei/Documents/SellScale/sellscale-api/venv/lib/python3.9/site-packages/apscheduler/executors/base.py\", line 125, in run_job\n",
      "    retval = job.func(*job.args, **job.kwargs)\n",
      "  File \"/Users/davidwei/Documents/SellScale/sellscale-api/src/utils/scheduler.py\", line 34, in run_next_client_sdr_li_conversation_scraper_job\n",
      "    from src.li_conversation.services import get_next_client_sdr_to_scrape\n",
      "  File \"/Users/davidwei/Documents/SellScale/sellscale-api/src/li_conversation/services.py\", line 3, in <module>\n",
      "    from app import db\n",
      "  File \"/Users/davidwei/Documents/SellScale/sellscale-api/app.py\", line 114, in <module>\n",
      "    register_blueprints(app)\n",
      "  File \"/Users/davidwei/Documents/SellScale/sellscale-api/app.py\", line 79, in register_blueprints\n",
      "    from src.li_conversation.controllers import LI_CONVERASTION_BLUEPRINT\n",
      "  File \"/Users/davidwei/Documents/SellScale/sellscale-api/src/li_conversation/controllers.py\", line 7, in <module>\n",
      "    from src.li_conversation.services import (\n",
      "ImportError: cannot import name 'update_linkedin_conversation_entries' from partially initialized module 'src.li_conversation.services' (most likely due to a circular import) (/Users/davidwei/Documents/SellScale/sellscale-api/src/li_conversation/services.py)\n"
     ]
    }
   ],
   "source": [
    "payload = call_iscraper('aaadesara')\n",
    "# print(payload)\n",
    "\n",
    "sub_title = deep_get(payload, 'sub_title')\n",
    "title = deep_get(payload, 'position_groups.0.profile_positions.0.title')\n",
    "\n",
    "better_title = title or sub_title\n",
    "\n",
    "print(sub_title)\n",
    "print(title)\n",
    "print(better_title)\n"
   ]
  }
 ],
 "metadata": {
  "kernelspec": {
   "display_name": "Python 3.9.6 ('venv': venv)",
   "language": "python",
   "name": "python3"
  },
  "language_info": {
   "codemirror_mode": {
    "name": "ipython",
    "version": 3
   },
   "file_extension": ".py",
   "mimetype": "text/x-python",
   "name": "python",
   "nbconvert_exporter": "python",
   "pygments_lexer": "ipython3",
   "version": "3.9.6"
  },
  "orig_nbformat": 4,
  "vscode": {
   "interpreter": {
    "hash": "60a39ed7d9ed506b3549da2e10402e1e4204e8b41b0e183e3e35940f3cb41bf2"
   }
  }
 },
 "nbformat": 4,
 "nbformat_minor": 2
}
