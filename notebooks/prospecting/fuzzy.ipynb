{
 "cells": [
  {
   "cell_type": "code",
   "execution_count": 4,
   "metadata": {},
   "outputs": [
    {
     "name": "stdout",
     "output_type": "stream",
     "text": [
      "53\n"
     ]
    }
   ],
   "source": [
    "from fuzzywuzzy import fuzz\n",
    "\n",
    "sent_message = \" Hey Alex! I read your profile and I'm impressed by your 11+ years of experience in the industry. I'm also curious to know more about how you work with data visualization and analysis - I'm building a new AI company and would love to chat about a new opportunities with you!  \"\n",
    "pulled_message = \"hey Alex! I read your profile and I'm impressed by your 11+ years of experience in the industry. I'm also curious to know more about how you work with data visualization and analysis - I'm building a new AI company and would loveto chat about a new opportunities with you!\"\n",
    "followup = \"Hey I just wanted to follow up on my previous message. I'm building a new AI company and would love to chat about a new opportunities with you!\"\n",
    "\n",
    "pure_sent_message = sent_message.strip().lower()            # Strip and lower case the message\n",
    "pure_pulled_message = pulled_message.strip().lower()      # Strip and lower case the message\n",
    "pure_followup = followup.strip().lower()      # Strip and lower case the message\n",
    "print(fuzz.ratio(pure_sent_message, pure_followup))"
   ]
  }
 ],
 "metadata": {
  "kernelspec": {
   "display_name": "Python 3",
   "language": "python",
   "name": "python3"
  },
  "language_info": {
   "codemirror_mode": {
    "name": "ipython",
    "version": 3
   },
   "file_extension": ".py",
   "mimetype": "text/x-python",
   "name": "python",
   "nbconvert_exporter": "python",
   "pygments_lexer": "ipython3",
   "version": "3.9.6"
  },
  "orig_nbformat": 4,
  "vscode": {
   "interpreter": {
    "hash": "aee8b7b246df8f9039afb4144a1f6fd8d2ca17a180786b69acc140d282b71a49"
   }
  }
 },
 "nbformat": 4,
 "nbformat_minor": 2
}
