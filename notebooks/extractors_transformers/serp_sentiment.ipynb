{
 "cells": [
  {
   "cell_type": "code",
   "execution_count": 10,
   "metadata": {},
   "outputs": [
    {
     "name": "stdout",
     "output_type": "stream",
     "text": [
      "/Users/davidwei/Documents/SellScale/sellscale-api/notebooks/extractors_transformers\n"
     ]
    }
   ],
   "source": [
    "from dotenv import load_dotenv\n",
    "from pathlib import Path\n",
    "import os\n",
    "import sys\n",
    "\n",
    "env_path = Path('../..') / '.env'\n",
    "load_dotenv(dotenv_path=env_path)\n",
    "\n",
    "print(os.getcwd())\n",
    "sys.path.append('YOUR_PATH_HERE ^')\n",
    "from src.ml.openai_wrappers import wrapped_create_completion, CURRENT_OPENAI_DAVINCI_MODEL\n",
    "\n",
    "import openai\n",
    "openai.api_key = os.environ.get('OPENAI_KEY')"
   ]
  },
  {
   "cell_type": "code",
   "execution_count": 11,
   "metadata": {},
   "outputs": [],
   "source": [
    "def analyze_article_sentiment(title: str, snippet: str):\n",
    "    \"\"\"Analyze the sentiment of an article using OpenAI's davinci-03 API.\n",
    "\n",
    "    Args:\n",
    "        title (str): The title of the article.\n",
    "        snippet (str): The snippet of the article.\n",
    "\n",
    "    Returns:\n",
    "        dict: Dictionary of sentiment analysis results.\n",
    "    \"\"\"\n",
    "    instruction = \"Is this article 'positive' or 'negative' sentiment based on the title and snippet?\"\n",
    "    prompt = f\"title: {title}\\nsnippet: {snippet}\\ninstruction: {instruction}\\nsentiment:\"\n",
    "    response = wrapped_create_completion(model=CURRENT_OPENAI_DAVINCI_MODEL, prompt=prompt, max_tokens=1)\n",
    "    \n",
    "    return response\n"
   ]
  },
  {
   "cell_type": "code",
   "execution_count": 12,
   "metadata": {},
   "outputs": [
    {
     "name": "stdout",
     "output_type": "stream",
     "text": [
      "Negative\n"
     ]
    }
   ],
   "source": [
    "title=\"Wall St dragged down by growth stocks on last trading day of torrid year\"\n",
    "snippet=\"... St dragged down by growth stocks on last trading day of torrid year ...year marked by aggressive interest-rate hikes to curb inflation,...\"\n",
    "print(analyze_article_sentiment(title, snippet))\n"
   ]
  }
 ],
 "metadata": {
  "kernelspec": {
   "display_name": "Python 3.9.6 ('venv': venv)",
   "language": "python",
   "name": "python3"
  },
  "language_info": {
   "codemirror_mode": {
    "name": "ipython",
    "version": 3
   },
   "file_extension": ".py",
   "mimetype": "text/x-python",
   "name": "python",
   "nbconvert_exporter": "python",
   "pygments_lexer": "ipython3",
   "version": "3.9.6"
  },
  "orig_nbformat": 4,
  "vscode": {
   "interpreter": {
    "hash": "60a39ed7d9ed506b3549da2e10402e1e4204e8b41b0e183e3e35940f3cb41bf2"
   }
  }
 },
 "nbformat": 4,
 "nbformat_minor": 2
}
