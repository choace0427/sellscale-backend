{
 "cells": [
  {
   "cell_type": "code",
   "execution_count": 2,
   "metadata": {},
   "outputs": [],
   "source": [
    "from dotenv import load_dotenv\n",
    "from pathlib import Path\n",
    "import os\n",
    "\n",
    "env_path = Path('../..') / '.env'\n",
    "load_dotenv(dotenv_path=env_path)\n",
    "\n",
    "PHANTOMBUSTER_API_KEY = os.environ.get(\"PHANTOMBUSTER_API_KEY\")"
   ]
  },
  {
   "cell_type": "code",
   "execution_count": 5,
   "metadata": {},
   "outputs": [],
   "source": [
    "from email.policy import default\n",
    "import requests\n",
    "import json\n",
    "import os\n",
    "\n",
    "PHANTOMBUSTER_API_KEY = os.environ.get(\"PHANTOMBUSTER_API_KEY\")\n",
    "\n",
    "\n",
    "class PhantomBusterAgent:\n",
    "    FETCH_AGENT_URL = (\n",
    "        url\n",
    "    ) = \"https://api.phantombuster.com/api/v2/agents/fetch?id={phantom_uuid}\"\n",
    "    FETCH_AGENT_OUTPUT = (\n",
    "        \"https://api.phantombuster.com/api/v2/agents/fetch-output?id={phantom_uuid}\"\n",
    "    )\n",
    "\n",
    "    def __init__(self, id: int):\n",
    "        self.id = id\n",
    "        self.api_key = PHANTOMBUSTER_API_KEY\n",
    "\n",
    "    def get_arguments(self):\n",
    "        url = self.FETCH_AGENT_URL.format(phantom_uuid=self.id)\n",
    "        payload = {}\n",
    "        headers = {\n",
    "            \"X-Phantombuster-Key\": self.api_key,\n",
    "            \"accept\": \"application/json\",\n",
    "        }\n",
    "        response = requests.request(\"GET\", url, headers=headers, data=payload)\n",
    "        data: dict = response.json()\n",
    "\n",
    "        arguments = json.loads(data.get(\"argument\", \"\"))\n",
    "\n",
    "        return arguments\n"
   ]
  },
  {
   "cell_type": "code",
   "execution_count": 12,
   "metadata": {},
   "outputs": [
    {
     "name": "stdout",
     "output_type": "stream",
     "text": [
      "True AQEDARkhED4Blh9HAAABhKYB2zkAAAGEyg5fOU0ASRoiDNPKbqq_I6APGrgh0QTHsY_InerOGtyGkytbEqAO5yTqRZvhXSJN14f6H1TPU5r5-CEqT1aGv4XYuah4imt-2CYzutKb1SKpGZlY9MTvHtPf\n",
      "{'inboxFilter': 'all', 'sessionCookie': 'AQEDARkhED4Blh9HAAABhKYB2zkAAAGEyg5fOU0ASRoiDNPKbqq_I6APGrgh0QTHsY_InerOGtyGkytbEqAO5yTqRZvhXSJN14f6H1TPU5r5-CEqT1aGv4XYuah4imt-2CYzutKb1SKpGZlY9MTvHtPf', 'numberOfThreadsToScrape': 50}\n",
      "True https://docs.google.com/spreadsheets/d/1CKIzS4w3nRb0FnQozjquA5hxxi6ueV2sXkQ6F5MyrrE/edit?usp=sharing\n",
      "{'onlySecondCircle': False, 'waitDuration': 30, 'skipProfiles': True, 'dwellTime': True, 'sessionCookie': 'AQEDARkhED4Blh9HAAABhKYB2zkAAAGEyg5fOU0ASRoiDNPKbqq_I6APGrgh0QTHsY_InerOGtyGkytbEqAO5yTqRZvhXSJN14f6H1TPU5r5-CEqT1aGv4XYuah4imt-2CYzutKb1SKpGZlY9MTvHtPf', 'spreadsheetUrl': 'https://docs.google.com/spreadsheets/d/1CKIzS4w3nRb0FnQozjquA5hxxi6ueV2sXkQ6F5MyrrE/edit?usp=sharing', 'message': '#Message#', 'spreadsheetUrlExclusionList': [], 'numberOfAddsPerLaunch': 2}\n"
     ]
    }
   ],
   "source": [
    "pb = PhantomBusterAgent(8547359940222244) # Aakash\n",
    "args = pb.get_arguments()\n",
    "print('sessionCookie' in args, args['sessionCookie'])\n",
    "print(args)\n",
    "\n",
    "\n",
    "pb2 = PhantomBusterAgent(1647890015554210) # Aakash\n",
    "args2 = pb2.get_arguments()\n",
    "print('spreadsheetUrl' in args2, args2['spreadsheetUrl'])\n",
    "print(args2)\n"
   ]
  }
 ],
 "metadata": {
  "kernelspec": {
   "display_name": "Python 3.9.6 ('venv': venv)",
   "language": "python",
   "name": "python3"
  },
  "language_info": {
   "codemirror_mode": {
    "name": "ipython",
    "version": 3
   },
   "file_extension": ".py",
   "mimetype": "text/x-python",
   "name": "python",
   "nbconvert_exporter": "python",
   "pygments_lexer": "ipython3",
   "version": "3.9.6"
  },
  "orig_nbformat": 4,
  "vscode": {
   "interpreter": {
    "hash": "60a39ed7d9ed506b3549da2e10402e1e4204e8b41b0e183e3e35940f3cb41bf2"
   }
  }
 },
 "nbformat": 4,
 "nbformat_minor": 2
}
