{
 "cells": [
  {
   "cell_type": "code",
   "execution_count": null,
   "metadata": {},
   "outputs": [],
   "source": [
    "from dotenv import load_dotenv\n",
    "from pathlib import Path\n",
    "import os\n",
    "import sys\n",
    "import openai\n",
    "import csv\n",
    "\n",
    "env_path = Path('../..') / '.env'\n",
    "load_dotenv(dotenv_path=env_path)\n",
    "\n",
    "print(os.getcwd())\n",
    "sys.path.append('/Users/davidwei/Documents/SellScale/sellscale-api/notebooks/gpt_api')\n",
    "\n",
    "OPENAI_API_KEY = os.environ.get('OPENAI_API_KEY')\n",
    "openai.api_key = OPENAI_API_KEY\n",
    "\n",
    "CURRENT_OPENAI_CHAT_GPT_MODEL = \"gpt-3.5-turbo\""
   ]
  },
  {
   "cell_type": "code",
   "execution_count": null,
   "metadata": {},
   "outputs": [],
   "source": [
    "import time\n",
    "\n",
    "def chat_completion(prompt: str):\n",
    "    response = openai.ChatCompletion.create(\n",
    "    model=CURRENT_OPENAI_CHAT_GPT_MODEL,\n",
    "    messages=[{\n",
    "                \"role\": \"user\", \"content\": prompt\n",
    "            }]\n",
    "    )\n",
    "    if response is None or response[\"choices\"] is None or len(response[\"choices\"]) == 0:\n",
    "        return \"\"\n",
    "\n",
    "    choices = response[\"choices\"]\n",
    "    top_choice = choices[0]\n",
    "    preview = top_choice[\"message\"][\"content\"].strip()\n",
    "\n",
    "    print(time.time())\n",
    "\n",
    "    return preview"
   ]
  },
  {
   "cell_type": "code",
   "execution_count": null,
   "metadata": {},
   "outputs": [],
   "source": [
    "import queue\n",
    "import time\n",
    "import concurrent.futures\n",
    "\n",
    "def make_api_call(results_queue):\n",
    "    response = chat_completion(\"Tell me a joke.\")\n",
    "    # Process the response as needed\n",
    "    results_queue.put(response)  # Store the response in the queue\n",
    "\n",
    "def parallel_api_calls():\n",
    "    start = time.time()\n",
    "    results_queue = queue.Queue()  # Queue to store the results\n",
    "\n",
    "    max_threads = 3\n",
    "\n",
    "    with concurrent.futures.ThreadPoolExecutor(max_workers=max_threads) as executor:\n",
    "        futures = [executor.submit(make_api_call, results_queue) for i in range(20)]\n",
    "        # Wait for all tasks to complete\n",
    "        concurrent.futures.wait(futures)\n",
    "\n",
    "    # Retrieve and process the results\n",
    "    while not results_queue.empty():\n",
    "        result = results_queue.get()\n",
    "        print(f\"Response: {result}\")\n",
    "\n",
    "    end = time.time()\n",
    "    print(f\"Time taken: {end - start} seconds\")\n",
    "\n",
    "# Call the function\n",
    "parallel_api_calls()\n"
   ]
  },
  {
   "cell_type": "code",
   "execution_count": null,
   "metadata": {},
   "outputs": [],
   "source": [
    "import time\n",
    "\n",
    "\n",
    "def sequential_api_calls():\n",
    "    start = time.time()\n",
    "    for i in range(20):\n",
    "        response = chat_completion(\"Tell me a joke.\")\n",
    "        print(f\"Response: {response}\")\n",
    "\n",
    "    end = time.time()\n",
    "    print(f\"Time taken: {end - start} seconds\")\n",
    "\n",
    "sequential_api_calls()\n"
   ]
  }
 ],
 "metadata": {
  "kernelspec": {
   "display_name": "venv",
   "language": "python",
   "name": "python3"
  },
  "language_info": {
   "codemirror_mode": {
    "name": "ipython",
    "version": 3
   },
   "file_extension": ".py",
   "mimetype": "text/x-python",
   "name": "python",
   "nbconvert_exporter": "python",
   "pygments_lexer": "ipython3",
   "version": "3.9.6"
  },
  "orig_nbformat": 4
 },
 "nbformat": 4,
 "nbformat_minor": 2
}
